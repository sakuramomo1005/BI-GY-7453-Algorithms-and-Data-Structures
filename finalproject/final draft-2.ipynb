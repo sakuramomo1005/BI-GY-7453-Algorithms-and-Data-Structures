{
 "cells": [
  {
   "cell_type": "markdown",
   "metadata": {},
   "source": [
    "# <center>Comparison of Classifiers for Bioassay Datasets</center>\n",
    "\n",
    "\n",
    "7743 Machine Learning and Data Science for Bioinformatics Final Project (Spring 2021)\n",
    "\n",
    "- Lanqiu Yao & Zhiming He\n",
    "\n"
   ]
  },
  {
   "cell_type": "markdown",
   "metadata": {},
   "source": [
    "# Introduction"
   ]
  },
  {
   "cell_type": "markdown",
   "metadata": {},
   "source": [
    "<font size=\"3\">\n",
    "\n",
    "High-Throughput Screening (HTS) is a technique that is widely used for new drug development. The bioassay data is collected from the screening of a batch of chemical compounds, where the ability of chemical compounds to bind to the target compound is measured. Based on whether the given compound binds to the target or not, the outcome status is recorded as \"Active\" and \"Inactive\". An active bind is also known as a hit. The compound-screening library is then built with the biological compounds' binding results through HTS, which is needed for new drug development since the first step for drug discovery is usually to find the potential compounds that are able to bind the biological target. The screenings often contain two processes, which are known as the primary screening and the confirmatory screening. The confirmatory step helps reduce the false-positive rates. \n",
    "\n",
    "The PubChem repository is the main resource of the Bioassay Datasets provided by the National Center for Biotechnology Information. We selected the Bioassay dataset AID362, which is a screening Bioassay for \n",
    "Formylpeptide Receptor Ligand Binding University from the New Mexico Center for Molecular Discovery. \n",
    "The compounds were selected on the basis of preliminary virtual screening of approximately 480,000 drug-like small molecules from Chemical Diversity Laboratories.\n",
    "\n",
    "We chose this data set since \n",
    "\n",
    "* (i) The data set selected a relatively small number of compounds: 3423 compounds in the training data set and 856 componts in the testing data set (shown in Table 1)\n",
    "* (ii) The data set has a relatively high rate of active samples:\n",
    "\n",
    "</font>\n",
    "$$\\frac{48}{3375 + 48}\\approx 1.4 \\%, \\frac{12}{844 + 12} \\approx 1.4 \\%$$\n"
   ]
  },
  {
   "cell_type": "markdown",
   "metadata": {},
   "source": [
    "<center>Table 1: Numbers of Inactive and Active Samples</center>\n",
    "\n",
    "|  | Training Set | Testing Set |\n",
    "| --- | --- | --- |\n",
    "| Inactive |3375 | 844 |\n",
    "| Active | 48 | 12 |\n"
   ]
  },
  {
   "cell_type": "markdown",
   "metadata": {},
   "source": [
    "<font size=\"3\">\n",
    "However, the active rate is still low in this data set (e.g., 1.4$\\%$). Therefore, the data is unbalanced, which is the major challenge for bioassay data analysis with machine learning approaches. \n",
    "    \n",
    "The unbalanced problem often appears in machine learning studies. Due to the disparity of classes in the variables, the machine learning algorithms tend to categorize samples into the majority class and thus be inaccurate to predict the events. To deal with unbalanced data, one straightforward approach is resampling. Based on whether the sampling happens in the major group or minor group, the approach can be categorized into:\n",
    "\n",
    "* Oversampling: Sample with replacement from the minority class and make the groups have the same sizes. Some algorithms such as SMOTE (Synthetic Minority Over-sampling Technique), Variational Autoencoders (VAE),  or MSMOTE (Modified Synthetic Minority Over-sampling Technique), etc are available for oversampling purpose. \n",
    "\n",
    "* Undersampling: Randomly sample from the majority class without replacement. The sample size is the same as the minority class. The weakness of this approach is that it only utilizes a small part of the data from the majority and thus may lose important information. \n",
    "\n",
    "Besides, applying appropriate metrics is necessary for unbalanced data analysis. From the confusion matrix, instead of calculating the accuracy score, we could also calculate the sensitivity and specificity, as well as precision and recall F1-scores. The Area under the ROC Curve (AUC) is also a good metric for unbalanced data. \n",
    "\n",
    "In this project, we applied both oversampling and undersampling approaches and the machine learning methods covered in class on the bioassay dataset to study whether we could have a powerful classification on this dataset.  \n",
    "</font>"
   ]
  },
  {
   "cell_type": "markdown",
   "metadata": {},
   "source": [
    "![alt text](resampling.png \"Resampling methods\")"
   ]
  },
  {
   "cell_type": "markdown",
   "metadata": {},
   "source": [
    "# Methods"
   ]
  },
  {
   "cell_type": "markdown",
   "metadata": {},
   "source": [
    "### Data Exploration"
   ]
  },
  {
   "cell_type": "markdown",
   "metadata": {},
   "source": [
    "<font size=\"3\">\n",
    "There are 3423 samples in the training dataset and 856 samples in the test dataset. Each dataset contains about $1.4\\%$ active samples and all the others are inactive. \n",
    "For each sample, 144 features as well as its outcome label were collected. Most of the features only contain 0s. Therefore, we first applied the meta estimator that fits a number of randomized decision trees (e.g. extra-trees) to select the top 30 features that are associated with the outcome labels the most. Following figure shows top 50 larger features and we can find that the top 30 features weight more important than the rests.\n",
    "<font>"
   ]
  },
  {
   "cell_type": "markdown",
   "metadata": {},
   "source": [
    "![alt text](top50features.png \"Top 50 important features\")"
   ]
  },
  {
   "cell_type": "markdown",
   "metadata": {},
   "source": [
    "<font size=\"3\">    \n",
    "To reduce the variable dimension, we applied PCA and selected the first 6 PCs that could explain 80$\\%$ of the  variance. The plots of PCA results are shown in figures below. We can find that the 1st PCA plays the most important role than the others, it weights almost 3 times higher than the 2nd PC. Another observation is the unblanced data from 2D PCA,in which there a lot of inactive number than the active number\n",
    "</font>"
   ]
  },
  {
   "cell_type": "markdown",
   "metadata": {},
   "source": [
    "![alt text](PCA_var.png \"Top 6 PCA\")"
   ]
  },
  {
   "cell_type": "markdown",
   "metadata": {},
   "source": [
    "![alt text](2_pca_before_resampling.png \"2D PCA before resampling\")"
   ]
  },
  {
   "cell_type": "markdown",
   "metadata": {},
   "source": [
    "<font size=\"3\">    \n",
    "The oversampling (Upper figure) with the SMOTE algorithm and the undersampling methods (lower figure) were conducted on the training data to make it balanced.\n",
    "</font>"
   ]
  },
  {
   "cell_type": "markdown",
   "metadata": {},
   "source": [
    "![alt text](2_pca_oversampling.png \"2D PCA before resampling\")"
   ]
  },
  {
   "cell_type": "markdown",
   "metadata": {},
   "source": [
    "![alt text](2_pca_undersampling.png \"2D PCA before resampling\")"
   ]
  },
  {
   "cell_type": "markdown",
   "metadata": {},
   "source": [
    "### Machine Learning Approaches"
   ]
  },
  {
   "cell_type": "markdown",
   "metadata": {},
   "source": [
    "<font size=\"3\">\n",
    "\n",
    "We applied \n",
    "\n",
    "* [SVM](#SVM)\n",
    "\n",
    "* [KNN](#KNN)\n",
    "\n",
    "* [Logistic Regression](#LogisticRegression)\n",
    "\n",
    "* [Decision Tree](#DecisionTrees) \n",
    "\n",
    "* [Random Forest](#RandomForest)\n",
    "\n",
    "* [Native Bayes](#NativeBayes)\n",
    "\n",
    "Each method was applied on both oversampling and undersampling training data set. The sensitivity, specificity, false positive rate, false negative rate, false discovery rate, total accuracy score, AUC, as well as precision and F1-scores for active samples and inactive samples were calculated\n",
    "</font>"
   ]
  },
  {
   "cell_type": "markdown",
   "metadata": {},
   "source": [
    "![alt text](approaches.png \"Machine Learning Approaches\")"
   ]
  },
  {
   "cell_type": "markdown",
   "metadata": {},
   "source": [
    "# Results"
   ]
  },
  {
   "cell_type": "markdown",
   "metadata": {},
   "source": [
    "The confusion matrice and the ROC curves for each model could be found here [Results Summary](#ResultsSummary), Please click it to view all the 12 results of different classifier models with Oversampling or Undersampling traing data, and the prediction with test data as well. Here is a example of the confusion matrice and the ROC curves of the Oversampling-SVM:"
   ]
  },
  {
   "cell_type": "markdown",
   "metadata": {},
   "source": [
    "#### <center>Example: Oversampling-SVM<center>"
   ]
  },
  {
   "cell_type": "markdown",
   "metadata": {},
   "source": [
    "![alt text](oversampling_svm.png \"Oversampling SVM\")"
   ]
  },
  {
   "cell_type": "markdown",
   "metadata": {},
   "source": [
    "<br>"
   ]
  },
  {
   "cell_type": "markdown",
   "metadata": {},
   "source": [
    "#### <center>Table 1: OverSampling--model Performance Evaluation</center>"
   ]
  },
  {
   "cell_type": "code",
   "execution_count": 117,
   "metadata": {
    "colab": {
     "base_uri": "https://localhost:8080/",
     "height": 235
    },
    "id": "E_2phhH-uQZh",
    "outputId": "132e4fb8-c372-427c-84e4-b11ecd48443f",
    "scrolled": true
   },
   "outputs": [
    {
     "data": {
      "text/html": [
       "<div>\n",
       "<style scoped>\n",
       "    .dataframe tbody tr th:only-of-type {\n",
       "        vertical-align: middle;\n",
       "    }\n",
       "\n",
       "    .dataframe tbody tr th {\n",
       "        vertical-align: top;\n",
       "    }\n",
       "\n",
       "    .dataframe thead th {\n",
       "        text-align: right;\n",
       "    }\n",
       "</style>\n",
       "<table border=\"1\" class=\"dataframe\">\n",
       "  <thead>\n",
       "    <tr style=\"text-align: right;\">\n",
       "      <th></th>\n",
       "      <th>Method</th>\n",
       "      <th>Sensitivity</th>\n",
       "      <th>Specificity</th>\n",
       "      <th>False positive rate</th>\n",
       "      <th>False negative rate</th>\n",
       "      <th>False Discovery rate</th>\n",
       "      <th>Overall accuracy</th>\n",
       "      <th>ROC</th>\n",
       "    </tr>\n",
       "  </thead>\n",
       "  <tbody>\n",
       "    <tr>\n",
       "      <th>0</th>\n",
       "      <td>SVM</td>\n",
       "      <td>0.227273</td>\n",
       "      <td>0.991607</td>\n",
       "      <td>0.008393</td>\n",
       "      <td>0.772727</td>\n",
       "      <td>0.583333</td>\n",
       "      <td>0.971963</td>\n",
       "      <td>0.705667</td>\n",
       "    </tr>\n",
       "    <tr>\n",
       "      <th>1</th>\n",
       "      <td>KNN</td>\n",
       "      <td>0.172414</td>\n",
       "      <td>0.991536</td>\n",
       "      <td>0.008464</td>\n",
       "      <td>0.827586</td>\n",
       "      <td>0.583333</td>\n",
       "      <td>0.963785</td>\n",
       "      <td>0.694115</td>\n",
       "    </tr>\n",
       "    <tr>\n",
       "      <th>2</th>\n",
       "      <td>Logistic Regression</td>\n",
       "      <td>0.028037</td>\n",
       "      <td>0.994393</td>\n",
       "      <td>0.005607</td>\n",
       "      <td>0.971963</td>\n",
       "      <td>0.250000</td>\n",
       "      <td>0.632009</td>\n",
       "      <td>0.746840</td>\n",
       "    </tr>\n",
       "    <tr>\n",
       "      <th>3</th>\n",
       "      <td>Decision Tree</td>\n",
       "      <td>0.045714</td>\n",
       "      <td>0.994126</td>\n",
       "      <td>0.005874</td>\n",
       "      <td>0.954286</td>\n",
       "      <td>0.333333</td>\n",
       "      <td>0.800234</td>\n",
       "      <td>0.743730</td>\n",
       "    </tr>\n",
       "    <tr>\n",
       "      <th>4</th>\n",
       "      <td>Random Forest</td>\n",
       "      <td>0.100000</td>\n",
       "      <td>0.991315</td>\n",
       "      <td>0.008685</td>\n",
       "      <td>0.900000</td>\n",
       "      <td>0.583333</td>\n",
       "      <td>0.939252</td>\n",
       "      <td>0.834321</td>\n",
       "    </tr>\n",
       "    <tr>\n",
       "      <th>5</th>\n",
       "      <td>Naive Bayes</td>\n",
       "      <td>0.024194</td>\n",
       "      <td>0.993802</td>\n",
       "      <td>0.006198</td>\n",
       "      <td>0.975806</td>\n",
       "      <td>0.250000</td>\n",
       "      <td>0.572430</td>\n",
       "      <td>0.705667</td>\n",
       "    </tr>\n",
       "  </tbody>\n",
       "</table>\n",
       "</div>"
      ],
      "text/plain": [
       "                Method  Sensitivity  ...  Overall accuracy       ROC\n",
       "0                  SVM     0.227273  ...          0.971963  0.705667\n",
       "1                  KNN     0.172414  ...          0.963785  0.694115\n",
       "2  Logistic Regression     0.028037  ...          0.632009  0.746840\n",
       "3        Decision Tree     0.045714  ...          0.800234  0.743730\n",
       "4        Random Forest     0.100000  ...          0.939252  0.834321\n",
       "5          Naive Bayes     0.024194  ...          0.572430  0.705667\n",
       "\n",
       "[6 rows x 8 columns]"
      ]
     },
     "execution_count": 117,
     "metadata": {
      "tags": []
     },
     "output_type": "execute_result"
    }
   ],
   "source": [
    "table1"
   ]
  },
  {
   "cell_type": "markdown",
   "metadata": {},
   "source": [
    "#### <center>Table 2a: Oversampling-Inactive Samples </center>"
   ]
  },
  {
   "cell_type": "code",
   "execution_count": 119,
   "metadata": {
    "colab": {
     "base_uri": "https://localhost:8080/",
     "height": 235
    },
    "id": "KKg3PBekf82r",
    "outputId": "9cbde878-72a3-44a8-a2be-9ed9f2f7dbfa",
    "scrolled": true
   },
   "outputs": [
    {
     "data": {
      "text/html": [
       "<div>\n",
       "<style scoped>\n",
       "    .dataframe tbody tr th:only-of-type {\n",
       "        vertical-align: middle;\n",
       "    }\n",
       "\n",
       "    .dataframe tbody tr th {\n",
       "        vertical-align: top;\n",
       "    }\n",
       "\n",
       "    .dataframe thead th {\n",
       "        text-align: right;\n",
       "    }\n",
       "</style>\n",
       "<table border=\"1\" class=\"dataframe\">\n",
       "  <thead>\n",
       "    <tr style=\"text-align: right;\">\n",
       "      <th></th>\n",
       "      <th>Method</th>\n",
       "      <th>precision</th>\n",
       "      <th>f1-score</th>\n",
       "    </tr>\n",
       "  </thead>\n",
       "  <tbody>\n",
       "    <tr>\n",
       "      <th>0</th>\n",
       "      <td>SVM</td>\n",
       "      <td>0.991607</td>\n",
       "      <td>0.985697</td>\n",
       "    </tr>\n",
       "    <tr>\n",
       "      <th>0</th>\n",
       "      <td>KNN</td>\n",
       "      <td>0.991536</td>\n",
       "      <td>0.981448</td>\n",
       "    </tr>\n",
       "    <tr>\n",
       "      <th>0</th>\n",
       "      <td>Logistic Regression</td>\n",
       "      <td>0.994393</td>\n",
       "      <td>0.771574</td>\n",
       "    </tr>\n",
       "    <tr>\n",
       "      <th>0</th>\n",
       "      <td>Decision Tree</td>\n",
       "      <td>0.994126</td>\n",
       "      <td>0.887869</td>\n",
       "    </tr>\n",
       "    <tr>\n",
       "      <th>0</th>\n",
       "      <td>Random Forest</td>\n",
       "      <td>0.991315</td>\n",
       "      <td>0.968485</td>\n",
       "    </tr>\n",
       "    <tr>\n",
       "      <th>0</th>\n",
       "      <td>Naive Bayes</td>\n",
       "      <td>0.993802</td>\n",
       "      <td>0.724398</td>\n",
       "    </tr>\n",
       "  </tbody>\n",
       "</table>\n",
       "</div>"
      ],
      "text/plain": [
       "                Method  precision  f1-score\n",
       "0                  SVM   0.991607  0.985697\n",
       "0                  KNN   0.991536  0.981448\n",
       "0  Logistic Regression   0.994393  0.771574\n",
       "0        Decision Tree   0.994126  0.887869\n",
       "0        Random Forest   0.991315  0.968485\n",
       "0          Naive Bayes   0.993802  0.724398"
      ]
     },
     "execution_count": 119,
     "metadata": {
      "tags": []
     },
     "output_type": "execute_result"
    }
   ],
   "source": [
    "table11"
   ]
  },
  {
   "cell_type": "markdown",
   "metadata": {},
   "source": [
    "#### <center>Table 2b: Oversampling-Active Samples</center>"
   ]
  },
  {
   "cell_type": "code",
   "execution_count": 120,
   "metadata": {
    "colab": {
     "base_uri": "https://localhost:8080/",
     "height": 235
    },
    "id": "EyZTHt_Wf87N",
    "outputId": "9575f345-0bef-4a0e-dc11-8d9b1c268791"
   },
   "outputs": [
    {
     "data": {
      "text/html": [
       "<div>\n",
       "<style scoped>\n",
       "    .dataframe tbody tr th:only-of-type {\n",
       "        vertical-align: middle;\n",
       "    }\n",
       "\n",
       "    .dataframe tbody tr th {\n",
       "        vertical-align: top;\n",
       "    }\n",
       "\n",
       "    .dataframe thead th {\n",
       "        text-align: right;\n",
       "    }\n",
       "</style>\n",
       "<table border=\"1\" class=\"dataframe\">\n",
       "  <thead>\n",
       "    <tr style=\"text-align: right;\">\n",
       "      <th></th>\n",
       "      <th>Method</th>\n",
       "      <th>precision</th>\n",
       "      <th>f1-score</th>\n",
       "    </tr>\n",
       "  </thead>\n",
       "  <tbody>\n",
       "    <tr>\n",
       "      <th>1</th>\n",
       "      <td>SVM</td>\n",
       "      <td>0.227273</td>\n",
       "      <td>0.294118</td>\n",
       "    </tr>\n",
       "    <tr>\n",
       "      <th>1</th>\n",
       "      <td>KNN</td>\n",
       "      <td>0.172414</td>\n",
       "      <td>0.243902</td>\n",
       "    </tr>\n",
       "    <tr>\n",
       "      <th>1</th>\n",
       "      <td>Logistic Regression</td>\n",
       "      <td>0.028037</td>\n",
       "      <td>0.054054</td>\n",
       "    </tr>\n",
       "    <tr>\n",
       "      <th>1</th>\n",
       "      <td>Decision Tree</td>\n",
       "      <td>0.045714</td>\n",
       "      <td>0.085561</td>\n",
       "    </tr>\n",
       "    <tr>\n",
       "      <th>1</th>\n",
       "      <td>Random Forest</td>\n",
       "      <td>0.100000</td>\n",
       "      <td>0.161290</td>\n",
       "    </tr>\n",
       "    <tr>\n",
       "      <th>1</th>\n",
       "      <td>Naive Bayes</td>\n",
       "      <td>0.024194</td>\n",
       "      <td>0.046875</td>\n",
       "    </tr>\n",
       "  </tbody>\n",
       "</table>\n",
       "</div>"
      ],
      "text/plain": [
       "                Method  precision  f1-score\n",
       "1                  SVM   0.227273  0.294118\n",
       "1                  KNN   0.172414  0.243902\n",
       "1  Logistic Regression   0.028037  0.054054\n",
       "1        Decision Tree   0.045714  0.085561\n",
       "1        Random Forest   0.100000  0.161290\n",
       "1          Naive Bayes   0.024194  0.046875"
      ]
     },
     "execution_count": 120,
     "metadata": {
      "tags": []
     },
     "output_type": "execute_result"
    }
   ],
   "source": [
    "table12"
   ]
  },
  {
   "cell_type": "markdown",
   "metadata": {},
   "source": [
    "#### <center>Table 3: UnderSampling--model Performance Evaluation</center>"
   ]
  },
  {
   "cell_type": "code",
   "execution_count": 118,
   "metadata": {
    "colab": {
     "base_uri": "https://localhost:8080/",
     "height": 235
    },
    "id": "TTSBDH0huQZk",
    "outputId": "335f8843-ef5c-4967-e990-7d5eca6d0a4b"
   },
   "outputs": [
    {
     "data": {
      "text/html": [
       "<div>\n",
       "<style scoped>\n",
       "    .dataframe tbody tr th:only-of-type {\n",
       "        vertical-align: middle;\n",
       "    }\n",
       "\n",
       "    .dataframe tbody tr th {\n",
       "        vertical-align: top;\n",
       "    }\n",
       "\n",
       "    .dataframe thead th {\n",
       "        text-align: right;\n",
       "    }\n",
       "</style>\n",
       "<table border=\"1\" class=\"dataframe\">\n",
       "  <thead>\n",
       "    <tr style=\"text-align: right;\">\n",
       "      <th></th>\n",
       "      <th>Method</th>\n",
       "      <th>Sensitivity</th>\n",
       "      <th>Specificity</th>\n",
       "      <th>False positive rate</th>\n",
       "      <th>False negative rate</th>\n",
       "      <th>False Discovery rate</th>\n",
       "      <th>Overall accuracy</th>\n",
       "      <th>ROC</th>\n",
       "    </tr>\n",
       "  </thead>\n",
       "  <tbody>\n",
       "    <tr>\n",
       "      <th>0</th>\n",
       "      <td>SVM</td>\n",
       "      <td>0.032520</td>\n",
       "      <td>1.000000</td>\n",
       "      <td>0.000000</td>\n",
       "      <td>0.967480</td>\n",
       "      <td>0.000000</td>\n",
       "      <td>0.582944</td>\n",
       "      <td>0.828495</td>\n",
       "    </tr>\n",
       "    <tr>\n",
       "      <th>1</th>\n",
       "      <td>KNN</td>\n",
       "      <td>0.043636</td>\n",
       "      <td>1.000000</td>\n",
       "      <td>0.000000</td>\n",
       "      <td>0.956364</td>\n",
       "      <td>0.000000</td>\n",
       "      <td>0.692757</td>\n",
       "      <td>0.863349</td>\n",
       "    </tr>\n",
       "    <tr>\n",
       "      <th>2</th>\n",
       "      <td>Logistic Regression</td>\n",
       "      <td>0.023499</td>\n",
       "      <td>0.993658</td>\n",
       "      <td>0.006342</td>\n",
       "      <td>0.976501</td>\n",
       "      <td>0.250000</td>\n",
       "      <td>0.559579</td>\n",
       "      <td>0.735288</td>\n",
       "    </tr>\n",
       "    <tr>\n",
       "      <th>3</th>\n",
       "      <td>Decision Tree</td>\n",
       "      <td>0.031008</td>\n",
       "      <td>1.000000</td>\n",
       "      <td>0.000000</td>\n",
       "      <td>0.968992</td>\n",
       "      <td>0.000000</td>\n",
       "      <td>0.561916</td>\n",
       "      <td>0.829532</td>\n",
       "    </tr>\n",
       "    <tr>\n",
       "      <th>4</th>\n",
       "      <td>Random Forest</td>\n",
       "      <td>0.026110</td>\n",
       "      <td>0.995772</td>\n",
       "      <td>0.004228</td>\n",
       "      <td>0.973890</td>\n",
       "      <td>0.166667</td>\n",
       "      <td>0.561916</td>\n",
       "      <td>0.743237</td>\n",
       "    </tr>\n",
       "    <tr>\n",
       "      <th>5</th>\n",
       "      <td>Naive Bayes</td>\n",
       "      <td>0.023529</td>\n",
       "      <td>0.992248</td>\n",
       "      <td>0.007752</td>\n",
       "      <td>0.976471</td>\n",
       "      <td>0.333333</td>\n",
       "      <td>0.607477</td>\n",
       "      <td>0.720577</td>\n",
       "    </tr>\n",
       "  </tbody>\n",
       "</table>\n",
       "</div>"
      ],
      "text/plain": [
       "                Method  Sensitivity  ...  Overall accuracy       ROC\n",
       "0                  SVM     0.032520  ...          0.582944  0.828495\n",
       "1                  KNN     0.043636  ...          0.692757  0.863349\n",
       "2  Logistic Regression     0.023499  ...          0.559579  0.735288\n",
       "3        Decision Tree     0.031008  ...          0.561916  0.829532\n",
       "4        Random Forest     0.026110  ...          0.561916  0.743237\n",
       "5          Naive Bayes     0.023529  ...          0.607477  0.720577\n",
       "\n",
       "[6 rows x 8 columns]"
      ]
     },
     "execution_count": 118,
     "metadata": {
      "tags": []
     },
     "output_type": "execute_result"
    }
   ],
   "source": [
    "table3"
   ]
  },
  {
   "cell_type": "markdown",
   "metadata": {},
   "source": [
    "#### <center>Table 4a: UnderSampling-Inactive Samples</center>"
   ]
  },
  {
   "cell_type": "code",
   "execution_count": 121,
   "metadata": {
    "colab": {
     "base_uri": "https://localhost:8080/",
     "height": 235
    },
    "id": "mxY5aaVUf9J1",
    "outputId": "3a64aa1a-5fe9-4ccb-8ff5-263b9722d423",
    "scrolled": true
   },
   "outputs": [
    {
     "data": {
      "text/html": [
       "<div>\n",
       "<style scoped>\n",
       "    .dataframe tbody tr th:only-of-type {\n",
       "        vertical-align: middle;\n",
       "    }\n",
       "\n",
       "    .dataframe tbody tr th {\n",
       "        vertical-align: top;\n",
       "    }\n",
       "\n",
       "    .dataframe thead th {\n",
       "        text-align: right;\n",
       "    }\n",
       "</style>\n",
       "<table border=\"1\" class=\"dataframe\">\n",
       "  <thead>\n",
       "    <tr style=\"text-align: right;\">\n",
       "      <th></th>\n",
       "      <th>Method</th>\n",
       "      <th>precision</th>\n",
       "      <th>f1-score</th>\n",
       "    </tr>\n",
       "  </thead>\n",
       "  <tbody>\n",
       "    <tr>\n",
       "      <th>0</th>\n",
       "      <td>SVM</td>\n",
       "      <td>1.000000</td>\n",
       "      <td>0.731781</td>\n",
       "    </tr>\n",
       "    <tr>\n",
       "      <th>0</th>\n",
       "      <td>KNN</td>\n",
       "      <td>1.000000</td>\n",
       "      <td>0.815439</td>\n",
       "    </tr>\n",
       "    <tr>\n",
       "      <th>0</th>\n",
       "      <td>Logistic Regression</td>\n",
       "      <td>0.993658</td>\n",
       "      <td>0.713743</td>\n",
       "    </tr>\n",
       "    <tr>\n",
       "      <th>0</th>\n",
       "      <td>Decision Tree</td>\n",
       "      <td>1.000000</td>\n",
       "      <td>0.714395</td>\n",
       "    </tr>\n",
       "    <tr>\n",
       "      <th>0</th>\n",
       "      <td>Random Forest</td>\n",
       "      <td>0.995772</td>\n",
       "      <td>0.715262</td>\n",
       "    </tr>\n",
       "    <tr>\n",
       "      <th>0</th>\n",
       "      <td>Naive Bayes</td>\n",
       "      <td>0.992248</td>\n",
       "      <td>0.752941</td>\n",
       "    </tr>\n",
       "  </tbody>\n",
       "</table>\n",
       "</div>"
      ],
      "text/plain": [
       "                Method  precision  f1-score\n",
       "0                  SVM   1.000000  0.731781\n",
       "0                  KNN   1.000000  0.815439\n",
       "0  Logistic Regression   0.993658  0.713743\n",
       "0        Decision Tree   1.000000  0.714395\n",
       "0        Random Forest   0.995772  0.715262\n",
       "0          Naive Bayes   0.992248  0.752941"
      ]
     },
     "execution_count": 121,
     "metadata": {
      "tags": []
     },
     "output_type": "execute_result"
    }
   ],
   "source": [
    "table21"
   ]
  },
  {
   "cell_type": "markdown",
   "metadata": {},
   "source": [
    "#### <center>Table 4b: UnderSampling-Active Samples</center>"
   ]
  },
  {
   "cell_type": "code",
   "execution_count": 122,
   "metadata": {
    "colab": {
     "base_uri": "https://localhost:8080/",
     "height": 235
    },
    "id": "WQG2V5mnf9pQ",
    "outputId": "22df2e0f-47f4-48bf-9597-0fd696aa8aeb",
    "scrolled": true
   },
   "outputs": [
    {
     "data": {
      "text/html": [
       "<div>\n",
       "<style scoped>\n",
       "    .dataframe tbody tr th:only-of-type {\n",
       "        vertical-align: middle;\n",
       "    }\n",
       "\n",
       "    .dataframe tbody tr th {\n",
       "        vertical-align: top;\n",
       "    }\n",
       "\n",
       "    .dataframe thead th {\n",
       "        text-align: right;\n",
       "    }\n",
       "</style>\n",
       "<table border=\"1\" class=\"dataframe\">\n",
       "  <thead>\n",
       "    <tr style=\"text-align: right;\">\n",
       "      <th></th>\n",
       "      <th>Method</th>\n",
       "      <th>precision</th>\n",
       "      <th>f1-score</th>\n",
       "    </tr>\n",
       "  </thead>\n",
       "  <tbody>\n",
       "    <tr>\n",
       "      <th>1</th>\n",
       "      <td>SVM</td>\n",
       "      <td>0.032520</td>\n",
       "      <td>0.062992</td>\n",
       "    </tr>\n",
       "    <tr>\n",
       "      <th>1</th>\n",
       "      <td>KNN</td>\n",
       "      <td>0.043636</td>\n",
       "      <td>0.083624</td>\n",
       "    </tr>\n",
       "    <tr>\n",
       "      <th>1</th>\n",
       "      <td>Logistic Regression</td>\n",
       "      <td>0.023499</td>\n",
       "      <td>0.045570</td>\n",
       "    </tr>\n",
       "    <tr>\n",
       "      <th>1</th>\n",
       "      <td>Decision Tree</td>\n",
       "      <td>0.031008</td>\n",
       "      <td>0.060150</td>\n",
       "    </tr>\n",
       "    <tr>\n",
       "      <th>1</th>\n",
       "      <td>Random Forest</td>\n",
       "      <td>0.026110</td>\n",
       "      <td>0.050633</td>\n",
       "    </tr>\n",
       "    <tr>\n",
       "      <th>1</th>\n",
       "      <td>Naive Bayes</td>\n",
       "      <td>0.023529</td>\n",
       "      <td>0.045455</td>\n",
       "    </tr>\n",
       "  </tbody>\n",
       "</table>\n",
       "</div>"
      ],
      "text/plain": [
       "                Method  precision  f1-score\n",
       "1                  SVM   0.032520  0.062992\n",
       "1                  KNN   0.043636  0.083624\n",
       "1  Logistic Regression   0.023499  0.045570\n",
       "1        Decision Tree   0.031008  0.060150\n",
       "1        Random Forest   0.026110  0.050633\n",
       "1          Naive Bayes   0.023529  0.045455"
      ]
     },
     "execution_count": 122,
     "metadata": {
      "tags": []
     },
     "output_type": "execute_result"
    }
   ],
   "source": [
    "table22"
   ]
  },
  {
   "cell_type": "markdown",
   "metadata": {},
   "source": [
    "<br>"
   ]
  },
  {
   "cell_type": "markdown",
   "metadata": {},
   "source": [
    "# Conclusion and Discussion:"
   ]
  },
  {
   "attachments": {},
   "cell_type": "markdown",
   "metadata": {},
   "source": [
    "* Unbalanced data is a major problem for handling this kind of datasets. Oversampling method seems more useful for improving classifier’s performance. We can compare the f1-scores of both resampling methods for their predicting inactive data or active data. Averagely, the fi-score are higher in Oversampling-inactive than that in Undersampling-inactive, and also as same as in Oversampling-active vs that in Undersampling-active.   \n",
    "* Another way to compare the model performance is to examine their \"Overall accuracy\" value. We can find that with Oversampling method, the SVM, KNN, and Random forest models gave us the highest accuracy for predicting “Inactive and Active” results and their values are around 93 to 97%. Meanwhile, the overall accuracy with UnderSampling methodare all around 56%-69%.\n",
    "* Overfitting might be another concern, especially for Oversampling-Inactive or without Resampling-Inactive. \n",
    "* Finally, no classifier seems good model to predict “Active”, because their Precision values are all very low. \n"
   ]
  },
  {
   "cell_type": "markdown",
   "metadata": {},
   "source": [
    "<br>"
   ]
  },
  {
   "cell_type": "markdown",
   "metadata": {},
   "source": [
    "# Codes and Results"
   ]
  },
  {
   "cell_type": "markdown",
   "metadata": {
    "id": "AcKV5D06uQZl"
   },
   "source": [
    "Load all the required libraries"
   ]
  },
  {
   "cell_type": "code",
   "execution_count": 2,
   "metadata": {
    "colab": {
     "base_uri": "https://localhost:8080/"
    },
    "id": "auWEg-_puQZm",
    "outputId": "db54001b-87e0-4091-f131-889413edaf1d"
   },
   "outputs": [],
   "source": [
    "import numpy as np\n",
    "import pandas as pd\n",
    "import random\n",
    "from sklearn.decomposition import PCA\n",
    "from sklearn.preprocessing import StandardScaler, normalize\n",
    "from sklearn.metrics import accuracy_score\n",
    "from sklearn.metrics import confusion_matrix\n",
    "from sklearn.metrics import plot_confusion_matrix\n",
    "from sklearn.linear_model import LogisticRegression\n",
    "from sklearn import svm\n",
    "from sklearn.svm import SVC\n",
    "from sklearn import tree\n",
    "from sklearn.tree import DecisionTreeClassifier\n",
    "from sklearn.model_selection import GridSearchCV\n",
    "from sklearn.ensemble import RandomForestClassifier\n",
    "from sklearn.neighbors import KNeighborsClassifier\n",
    "from sklearn.naive_bayes import GaussianNB\n",
    "import xgboost as xgb\n",
    "\n",
    "%matplotlib inline\n",
    "import matplotlib.pyplot as plt\n",
    "from matplotlib.colors import ListedColormap\n",
    "from sklearn.ensemble import ExtraTreesClassifier\n",
    "from sklearn.utils import resample\n",
    "from collections import Counter\n",
    "from imblearn.over_sampling import SMOTE\n",
    "from imblearn.under_sampling import RandomUnderSampler\n",
    "\n",
    "from sklearn.metrics import recall_score, precision_score, classification_report,accuracy_score,confusion_matrix, roc_curve, auc, roc_curve,accuracy_score,plot_confusion_matrix\n",
    "\n"
   ]
  },
  {
   "cell_type": "markdown",
   "metadata": {
    "id": "b3vADJADuQZo"
   },
   "source": [
    "Load the training and testing datasets of study AID362. "
   ]
  },
  {
   "cell_type": "code",
   "execution_count": 3,
   "metadata": {
    "id": "C57-e1uzuQZo"
   },
   "outputs": [],
   "source": [
    "Train_Data = pd.read_csv(\"AID362red_train.csv\")\n",
    "Test_Data = pd.read_csv(\"AID362red_test.csv\")"
   ]
  },
  {
   "cell_type": "markdown",
   "metadata": {
    "id": "IREYExLsuQZp"
   },
   "source": [
    "Add numerical labels and drop categorical column"
   ]
  },
  {
   "cell_type": "code",
   "execution_count": 4,
   "metadata": {
    "id": "OBx4DTo4uQZp"
   },
   "outputs": [],
   "source": [
    "def outcome_to_numeric(x):\n",
    "    if x=='Inactive':\n",
    "        return 0\n",
    "    if x=='Active':\n",
    "        return 1"
   ]
  },
  {
   "cell_type": "code",
   "execution_count": 5,
   "metadata": {
    "id": "2XCr4lq0uQZq"
   },
   "outputs": [],
   "source": [
    "Train_Data['label'] = Train_Data['Outcome'].apply(outcome_to_numeric)\n",
    "Test_Data['label'] = Test_Data['Outcome'].apply(outcome_to_numeric)\n",
    "Train_Data=Train_Data.drop('Outcome', axis=1)\n",
    "Test_Data=Test_Data.drop('Outcome', axis=1)"
   ]
  },
  {
   "cell_type": "markdown",
   "metadata": {
    "id": "hvirLd_RuQZq"
   },
   "source": [
    "There is no missing data"
   ]
  },
  {
   "cell_type": "code",
   "execution_count": 6,
   "metadata": {
    "colab": {
     "base_uri": "https://localhost:8080/"
    },
    "id": "DklW7lxVuQZr",
    "outputId": "f6b12bac-643d-4086-8c1e-faae9eaec56e"
   },
   "outputs": [
    {
     "data": {
      "text/plain": [
       "(0, 0)"
      ]
     },
     "execution_count": 6,
     "metadata": {},
     "output_type": "execute_result"
    }
   ],
   "source": [
    "Train_Data.isna().sum().max(), Test_Data.isna().sum().max()"
   ]
  },
  {
   "cell_type": "markdown",
   "metadata": {
    "id": "GxGxEn7FuQZs"
   },
   "source": [
    "However, these data sets contain many 0s as we mentioned before"
   ]
  },
  {
   "cell_type": "code",
   "execution_count": 7,
   "metadata": {
    "colab": {
     "base_uri": "https://localhost:8080/",
     "height": 253
    },
    "id": "FjL8CF3juQZs",
    "outputId": "b1e26aea-ad5b-48e4-90e5-5eb775c2a994",
    "scrolled": true
   },
   "outputs": [
    {
     "data": {
      "text/html": [
       "<div>\n",
       "<style scoped>\n",
       "    .dataframe tbody tr th:only-of-type {\n",
       "        vertical-align: middle;\n",
       "    }\n",
       "\n",
       "    .dataframe tbody tr th {\n",
       "        vertical-align: top;\n",
       "    }\n",
       "\n",
       "    .dataframe thead th {\n",
       "        text-align: right;\n",
       "    }\n",
       "</style>\n",
       "<table border=\"1\" class=\"dataframe\">\n",
       "  <thead>\n",
       "    <tr style=\"text-align: right;\">\n",
       "      <th></th>\n",
       "      <th>NEG_01_NEG</th>\n",
       "      <th>NEG_03_NEG</th>\n",
       "      <th>NEG_04_NEG</th>\n",
       "      <th>NEG_05_NEG</th>\n",
       "      <th>NEG_06_NEG</th>\n",
       "      <th>NEG_07_NEG</th>\n",
       "      <th>NEG_03_POS</th>\n",
       "      <th>NEG_04_POS</th>\n",
       "      <th>NEG_05_POS</th>\n",
       "      <th>NEG_06_POS</th>\n",
       "      <th>...</th>\n",
       "      <th>WBN_LP_H_1.00</th>\n",
       "      <th>XLogP</th>\n",
       "      <th>PSA</th>\n",
       "      <th>NumRot</th>\n",
       "      <th>NumHBA</th>\n",
       "      <th>NumHBD</th>\n",
       "      <th>MW</th>\n",
       "      <th>BBB</th>\n",
       "      <th>BadGroup</th>\n",
       "      <th>label</th>\n",
       "    </tr>\n",
       "  </thead>\n",
       "  <tbody>\n",
       "    <tr>\n",
       "      <th>0</th>\n",
       "      <td>0</td>\n",
       "      <td>0</td>\n",
       "      <td>0</td>\n",
       "      <td>0</td>\n",
       "      <td>0</td>\n",
       "      <td>0</td>\n",
       "      <td>0</td>\n",
       "      <td>0</td>\n",
       "      <td>0</td>\n",
       "      <td>0</td>\n",
       "      <td>...</td>\n",
       "      <td>3.7730</td>\n",
       "      <td>2.704</td>\n",
       "      <td>119.85</td>\n",
       "      <td>4</td>\n",
       "      <td>6</td>\n",
       "      <td>0</td>\n",
       "      <td>424.569</td>\n",
       "      <td>0</td>\n",
       "      <td>0</td>\n",
       "      <td>1</td>\n",
       "    </tr>\n",
       "    <tr>\n",
       "      <th>1</th>\n",
       "      <td>0</td>\n",
       "      <td>0</td>\n",
       "      <td>0</td>\n",
       "      <td>0</td>\n",
       "      <td>0</td>\n",
       "      <td>0</td>\n",
       "      <td>0</td>\n",
       "      <td>0</td>\n",
       "      <td>0</td>\n",
       "      <td>0</td>\n",
       "      <td>...</td>\n",
       "      <td>3.5674</td>\n",
       "      <td>2.605</td>\n",
       "      <td>94.17</td>\n",
       "      <td>11</td>\n",
       "      <td>8</td>\n",
       "      <td>1</td>\n",
       "      <td>484.593</td>\n",
       "      <td>0</td>\n",
       "      <td>1</td>\n",
       "      <td>1</td>\n",
       "    </tr>\n",
       "    <tr>\n",
       "      <th>2</th>\n",
       "      <td>0</td>\n",
       "      <td>0</td>\n",
       "      <td>0</td>\n",
       "      <td>0</td>\n",
       "      <td>0</td>\n",
       "      <td>0</td>\n",
       "      <td>0</td>\n",
       "      <td>0</td>\n",
       "      <td>0</td>\n",
       "      <td>0</td>\n",
       "      <td>...</td>\n",
       "      <td>3.9847</td>\n",
       "      <td>2.780</td>\n",
       "      <td>77.76</td>\n",
       "      <td>7</td>\n",
       "      <td>5</td>\n",
       "      <td>1</td>\n",
       "      <td>333.384</td>\n",
       "      <td>0</td>\n",
       "      <td>0</td>\n",
       "      <td>1</td>\n",
       "    </tr>\n",
       "    <tr>\n",
       "      <th>3</th>\n",
       "      <td>0</td>\n",
       "      <td>0</td>\n",
       "      <td>0</td>\n",
       "      <td>0</td>\n",
       "      <td>0</td>\n",
       "      <td>0</td>\n",
       "      <td>0</td>\n",
       "      <td>0</td>\n",
       "      <td>0</td>\n",
       "      <td>0</td>\n",
       "      <td>...</td>\n",
       "      <td>3.6643</td>\n",
       "      <td>5.239</td>\n",
       "      <td>119.36</td>\n",
       "      <td>9</td>\n",
       "      <td>8</td>\n",
       "      <td>2</td>\n",
       "      <td>562.659</td>\n",
       "      <td>0</td>\n",
       "      <td>1</td>\n",
       "      <td>1</td>\n",
       "    </tr>\n",
       "    <tr>\n",
       "      <th>4</th>\n",
       "      <td>0</td>\n",
       "      <td>0</td>\n",
       "      <td>0</td>\n",
       "      <td>0</td>\n",
       "      <td>0</td>\n",
       "      <td>0</td>\n",
       "      <td>0</td>\n",
       "      <td>0</td>\n",
       "      <td>0</td>\n",
       "      <td>0</td>\n",
       "      <td>...</td>\n",
       "      <td>3.6613</td>\n",
       "      <td>4.024</td>\n",
       "      <td>76.07</td>\n",
       "      <td>6</td>\n",
       "      <td>6</td>\n",
       "      <td>1</td>\n",
       "      <td>409.482</td>\n",
       "      <td>0</td>\n",
       "      <td>1</td>\n",
       "      <td>1</td>\n",
       "    </tr>\n",
       "  </tbody>\n",
       "</table>\n",
       "<p>5 rows × 145 columns</p>\n",
       "</div>"
      ],
      "text/plain": [
       "   NEG_01_NEG  NEG_03_NEG  NEG_04_NEG  NEG_05_NEG  NEG_06_NEG  NEG_07_NEG  \\\n",
       "0           0           0           0           0           0           0   \n",
       "1           0           0           0           0           0           0   \n",
       "2           0           0           0           0           0           0   \n",
       "3           0           0           0           0           0           0   \n",
       "4           0           0           0           0           0           0   \n",
       "\n",
       "   NEG_03_POS  NEG_04_POS  NEG_05_POS  NEG_06_POS  ...  WBN_LP_H_1.00  XLogP  \\\n",
       "0           0           0           0           0  ...         3.7730  2.704   \n",
       "1           0           0           0           0  ...         3.5674  2.605   \n",
       "2           0           0           0           0  ...         3.9847  2.780   \n",
       "3           0           0           0           0  ...         3.6643  5.239   \n",
       "4           0           0           0           0  ...         3.6613  4.024   \n",
       "\n",
       "      PSA  NumRot  NumHBA  NumHBD       MW  BBB  BadGroup  label  \n",
       "0  119.85       4       6       0  424.569    0         0      1  \n",
       "1   94.17      11       8       1  484.593    0         1      1  \n",
       "2   77.76       7       5       1  333.384    0         0      1  \n",
       "3  119.36       9       8       2  562.659    0         1      1  \n",
       "4   76.07       6       6       1  409.482    0         1      1  \n",
       "\n",
       "[5 rows x 145 columns]"
      ]
     },
     "execution_count": 7,
     "metadata": {},
     "output_type": "execute_result"
    }
   ],
   "source": [
    "Train_Data.head()"
   ]
  },
  {
   "cell_type": "markdown",
   "metadata": {
    "id": "XsAsVvE_uQZu"
   },
   "source": [
    "Split datasets into feature and label dataframes"
   ]
  },
  {
   "cell_type": "code",
   "execution_count": 8,
   "metadata": {
    "id": "wCM-PQPVGev5"
   },
   "outputs": [],
   "source": [
    "x_train = Train_Data.drop('label', axis=1)\n",
    "y_train = Train_Data['label']\n",
    "x_test = Test_Data.drop('label', axis=1)\n",
    "y_test = Test_Data['label']"
   ]
  },
  {
   "cell_type": "markdown",
   "metadata": {},
   "source": [
    "Therefore, we select the top 30 important features"
   ]
  },
  {
   "cell_type": "code",
   "execution_count": 9,
   "metadata": {
    "colab": {
     "base_uri": "https://localhost:8080/",
     "height": 267
    },
    "id": "r3zxjqdRGXcB",
    "outputId": "435c8ccd-5fde-4bf8-dec9-8b1abd05dfa6"
   },
   "outputs": [
    {
     "data": {
      "image/png": "[encoded data removed]",
      "text/plain": [
       "<Figure size 432x288 with 1 Axes>"
      ]
     },
     "metadata": {
      "needs_background": "light"
     },
     "output_type": "display_data"
    }
   ],
   "source": [
    "from sklearn.ensemble import ExtraTreesClassifier\n",
    "import matplotlib.pyplot as plt\n",
    "%matplotlib inline\n",
    "\n",
    "model = ExtraTreesClassifier()\n",
    "model.fit(x_train, y_train)\n",
    "\n",
    "feat_importances = pd.Series(model.feature_importances_, index=x_train.columns)\n",
    "feat_importances.nlargest(50).plot(kind='barh')\n",
    "plt.show()"
   ]
  },
  {
   "cell_type": "code",
   "execution_count": 10,
   "metadata": {
    "id": "1Z-1VG8ZuQZt"
   },
   "outputs": [],
   "source": [
    "X_train= x_train[feat_importances.nlargest(30).index]\n",
    "X_test= x_test[feat_importances.nlargest(30).index]"
   ]
  },
  {
   "cell_type": "code",
   "execution_count": 11,
   "metadata": {
    "id": "CGDMOxEhGrxh"
   },
   "outputs": [],
   "source": [
    "X_train = pd.DataFrame(X_train)"
   ]
  },
  {
   "cell_type": "markdown",
   "metadata": {
    "id": "eAKTZVefuQZu"
   },
   "source": [
    "The data is very unbalanced"
   ]
  },
  {
   "cell_type": "code",
   "execution_count": 12,
   "metadata": {
    "colab": {
     "base_uri": "https://localhost:8080/",
     "height": 111
    },
    "id": "OdzmR9LMuQZv",
    "outputId": "1a23de17-e78a-44c1-ae85-f0c514214ffd",
    "scrolled": true
   },
   "outputs": [
    {
     "data": {
      "text/html": [
       "<div>\n",
       "<style scoped>\n",
       "    .dataframe tbody tr th:only-of-type {\n",
       "        vertical-align: middle;\n",
       "    }\n",
       "\n",
       "    .dataframe tbody tr th {\n",
       "        vertical-align: top;\n",
       "    }\n",
       "\n",
       "    .dataframe thead th {\n",
       "        text-align: right;\n",
       "    }\n",
       "</style>\n",
       "<table border=\"1\" class=\"dataframe\">\n",
       "  <thead>\n",
       "    <tr style=\"text-align: right;\">\n",
       "      <th></th>\n",
       "      <th>Train</th>\n",
       "      <th>Test</th>\n",
       "    </tr>\n",
       "  </thead>\n",
       "  <tbody>\n",
       "    <tr>\n",
       "      <th>Inactive</th>\n",
       "      <td>3375</td>\n",
       "      <td>844</td>\n",
       "    </tr>\n",
       "    <tr>\n",
       "      <th>Active</th>\n",
       "      <td>48</td>\n",
       "      <td>12</td>\n",
       "    </tr>\n",
       "  </tbody>\n",
       "</table>\n",
       "</div>"
      ],
      "text/plain": [
       "          Train  Test\n",
       "Inactive   3375   844\n",
       "Active       48    12"
      ]
     },
     "execution_count": 12,
     "metadata": {},
     "output_type": "execute_result"
    }
   ],
   "source": [
    "df = pd.concat([pd.DataFrame(Train_Data.groupby('label').size()).reset_index(drop=True),\n",
    "                  pd.DataFrame(Test_Data.groupby('label').size())], axis=1)\n",
    "df.columns = ['Train','Test']\n",
    "df.index = ['Inactive','Active']\n",
    "df"
   ]
  },
  {
   "cell_type": "code",
   "execution_count": 13,
   "metadata": {
    "colab": {
     "base_uri": "https://localhost:8080/",
     "height": 111
    },
    "id": "_dJJAxEzaS3K",
    "outputId": "fefa4b72-0819-42ef-f045-4cdaa66361a0",
    "scrolled": true
   },
   "outputs": [
    {
     "data": {
      "text/html": [
       "<div>\n",
       "<style scoped>\n",
       "    .dataframe tbody tr th:only-of-type {\n",
       "        vertical-align: middle;\n",
       "    }\n",
       "\n",
       "    .dataframe tbody tr th {\n",
       "        vertical-align: top;\n",
       "    }\n",
       "\n",
       "    .dataframe thead th {\n",
       "        text-align: right;\n",
       "    }\n",
       "</style>\n",
       "<table border=\"1\" class=\"dataframe\">\n",
       "  <thead>\n",
       "    <tr style=\"text-align: right;\">\n",
       "      <th></th>\n",
       "      <th>Train</th>\n",
       "      <th>Test</th>\n",
       "    </tr>\n",
       "  </thead>\n",
       "  <tbody>\n",
       "    <tr>\n",
       "      <th>Inactive</th>\n",
       "      <td>3375</td>\n",
       "      <td>844</td>\n",
       "    </tr>\n",
       "    <tr>\n",
       "      <th>Active</th>\n",
       "      <td>48</td>\n",
       "      <td>12</td>\n",
       "    </tr>\n",
       "  </tbody>\n",
       "</table>\n",
       "</div>"
      ],
      "text/plain": [
       "          Train  Test\n",
       "Inactive   3375   844\n",
       "Active       48    12"
      ]
     },
     "execution_count": 13,
     "metadata": {},
     "output_type": "execute_result"
    }
   ],
   "source": [
    "df"
   ]
  },
  {
   "cell_type": "code",
   "execution_count": 14,
   "metadata": {
    "colab": {
     "base_uri": "https://localhost:8080/"
    },
    "id": "rDUbf5meuQZv",
    "outputId": "da40e064-837b-4704-ad25-0c6d1bf23a63"
   },
   "outputs": [
    {
     "name": "stdout",
     "output_type": "stream",
     "text": [
      "Only 1.422 % of the data are active samples\n"
     ]
    }
   ],
   "source": [
    "print('Only',round((48+12)/(3375+844)*100,3) ,'% of the data are active samples')"
   ]
  },
  {
   "cell_type": "markdown",
   "metadata": {
    "id": "3FqQkODXuQZw"
   },
   "source": [
    "Features Standardization"
   ]
  },
  {
   "cell_type": "code",
   "execution_count": 15,
   "metadata": {
    "id": "WgbTO6A_uQZw"
   },
   "outputs": [],
   "source": [
    "sc_X = StandardScaler()\n",
    "X_train = sc_X.fit_transform(X_train)\n",
    "X_test = sc_X.transform(X_test)"
   ]
  },
  {
   "cell_type": "markdown",
   "metadata": {
    "id": "sKmnv8RzuQZw"
   },
   "source": [
    "### Dimentionality reduction using Principal Component Analysis(PCA)\n"
   ]
  },
  {
   "cell_type": "code",
   "execution_count": 16,
   "metadata": {
    "colab": {
     "base_uri": "https://localhost:8080/"
    },
    "id": "Z_meGvO5uQZx",
    "outputId": "d7da57a2-d8a1-4105-ac6a-c1af31153a56"
   },
   "outputs": [
    {
     "data": {
      "text/plain": [
       "(3423, 6)"
      ]
     },
     "execution_count": 16,
     "metadata": {},
     "output_type": "execute_result"
    }
   ],
   "source": [
    "idea_pca = PCA(0.8)\n",
    "X_train_pca = idea_pca.fit_transform(X_train)\n",
    "X_train_pca.shape"
   ]
  },
  {
   "cell_type": "code",
   "execution_count": 17,
   "metadata": {
    "id": "ZHN2AnrUHA0l"
   },
   "outputs": [],
   "source": [
    "X_test_pca=idea_pca.transform(X_test)"
   ]
  },
  {
   "cell_type": "code",
   "execution_count": 18,
   "metadata": {
    "id": "Tn9Ej4aDuQZx"
   },
   "outputs": [],
   "source": [
    "principalDf = pd.DataFrame(data = X_train_pca,\n",
    "                           columns = ['pc' + str(i) for i in range(1,X_train_pca.shape[1] +1)])\n",
    "pcaDf = pd.concat([principalDf, y_train], axis = 1)"
   ]
  },
  {
   "cell_type": "code",
   "execution_count": 19,
   "metadata": {
    "id": "o0JhpDuGuQZx"
   },
   "outputs": [],
   "source": [
    "X_test_pca=idea_pca.transform(X_test)\n",
    "cov_mat=idea_pca.get_covariance()\n",
    "k = len(idea_pca.explained_variance_)\n",
    "tot = sum(idea_pca.explained_variance_)\n",
    "var_exp = [(i/tot) for i in sorted(idea_pca.explained_variance_, reverse=True)]\n",
    "cum_var_exp = np.cumsum(var_exp)"
   ]
  },
  {
   "cell_type": "markdown",
   "metadata": {},
   "source": [
    "#### PCA explained variance plot"
   ]
  },
  {
   "cell_type": "code",
   "execution_count": 20,
   "metadata": {
    "colab": {
     "base_uri": "https://localhost:8080/",
     "height": 369
    },
    "id": "CB3ML-VLuQZy",
    "outputId": "4f71adb0-4be0-4ac4-aba1-50de893cd5d8",
    "scrolled": false
   },
   "outputs": [
    {
     "data": {
      "image/png": "[encoded data removed]",
      "text/plain": [
       "<Figure size 360x360 with 1 Axes>"
      ]
     },
     "metadata": {
      "needs_background": "light"
     },
     "output_type": "display_data"
    }
   ],
   "source": [
    "plt.figure(figsize=(5,5))\n",
    "plt.bar(range(k), var_exp, alpha=0.5, align=\"center\",label=\"individual explained variance\")\n",
    "plt.step(range(k), cum_var_exp, where=\"mid\",label=\"cumulative explained variance\", color=\"Red\")\n",
    "plt.ylabel(\"Explained variance ratio\")\n",
    "plt.xlabel(\"Principal component index\")\n",
    "plt.legend(loc=\"best\")\n",
    "plt.tight_layout()"
   ]
  },
  {
   "cell_type": "markdown",
   "metadata": {},
   "source": [
    "#### First 2 PCs plot"
   ]
  },
  {
   "cell_type": "code",
   "execution_count": 21,
   "metadata": {
    "colab": {
     "base_uri": "https://localhost:8080/",
     "height": 360
    },
    "id": "-cWCuWiCuQZy",
    "outputId": "dba21f36-7270-48a9-b149-f31b87197b88"
   },
   "outputs": [
    {
     "data": {
      "image/png": "[encoded data removed]",
      "text/plain": [
       "<Figure size 360x360 with 1 Axes>"
      ]
     },
     "metadata": {
      "needs_background": "light"
     },
     "output_type": "display_data"
    }
   ],
   "source": [
    "fig = plt.figure(figsize = (5,5))\n",
    "ax = fig.add_subplot(1,1,1) \n",
    "ax.set_xlabel('Principal Component 1', fontsize = 15)\n",
    "ax.set_ylabel('Principal Component 2', fontsize = 15)\n",
    "ax.set_title('2 component PCA', fontsize = 20)\n",
    "targets = ['Active', 'Inactive']\n",
    "colors = ['b', 'r']\n",
    "for target, color in zip(targets,colors):\n",
    "    ax.scatter(X_train_pca[:, 0], X_train_pca[:, 1]\n",
    "               , c = color\n",
    "               , s = 50)\n",
    "ax.legend(targets)\n",
    "ax.grid()"
   ]
  },
  {
   "cell_type": "markdown",
   "metadata": {},
   "source": [
    "#### First 3 PC plots, 3D plot"
   ]
  },
  {
   "cell_type": "code",
   "execution_count": 22,
   "metadata": {
    "colab": {
     "base_uri": "https://localhost:8080/",
     "height": 408
    },
    "id": "7mXbz1oEuQZ0",
    "outputId": "7922b704-bf11-4442-dec5-123908f0f22a"
   },
   "outputs": [
    {
     "name": "stderr",
     "output_type": "stream",
     "text": [
      "<ipython-input-22-57d55012a8c4>:9: MatplotlibDeprecationWarning: Axes3D(fig) adding itself to the figure is deprecated since 3.4. Pass the keyword argument auto_add_to_figure=False and use fig.add_axes(ax) to suppress this warning. The default value of auto_add_to_figure will change to False in mpl3.5 and True values will no longer work in 3.6.  This is consistent with other Axes classes.\n",
      "  ax = Axes3D(fig, elev=-150, azim=110,)\n"
     ]
    },
    {
     "data": {
      "text/plain": [
       "[Text(-8.0, 0, ''),\n",
       " Text(-6.0, 0, ''),\n",
       " Text(-4.0, 0, ''),\n",
       " Text(-2.0, 0, ''),\n",
       " Text(0.0, 0, ''),\n",
       " Text(2.0, 0, ''),\n",
       " Text(4.0, 0, ''),\n",
       " Text(6.0, 0, ''),\n",
       " Text(8.0, 0, ''),\n",
       " Text(10.0, 0, '')]"
      ]
     },
     "execution_count": 22,
     "metadata": {},
     "output_type": "execute_result"
    },
    {
     "data": {
      "image/png": "[encoded data removed]",
      "text/plain": [
       "<Figure size 360x360 with 1 Axes>"
      ]
     },
     "metadata": {
      "needs_background": "light"
     },
     "output_type": "display_data"
    }
   ],
   "source": [
    "from mpl_toolkits.mplot3d import Axes3D\n",
    "\n",
    "pca3 = PCA(n_components=3).fit(X_train)\n",
    "X_train_reduced = pca3.transform(X_train)\n",
    "\n",
    "plt.figure(figsize=(5,5))\n",
    "plt.clf()\n",
    "fig = plt.figure(1)\n",
    "ax = Axes3D(fig, elev=-150, azim=110,)\n",
    "ax.scatter(X_train_reduced[:, 0], X_train_reduced[:, 1], X_train_reduced[:, 2], c = y_train, cmap='coolwarm', linewidths=10)\n",
    "ax.set_title(\"First three PCA directions\")\n",
    "ax.set_xlabel(\"1st eigenvector\")\n",
    "ax.w_xaxis.set_ticklabels([])\n",
    "ax.set_ylabel(\"2nd eigenvector\")\n",
    "ax.w_yaxis.set_ticklabels([])\n",
    "ax.set_zlabel(\"3rd eigenvector\")\n",
    "ax.w_zaxis.set_ticklabels([])"
   ]
  },
  {
   "cell_type": "markdown",
   "metadata": {
    "id": "224wi1YWuQZ0"
   },
   "source": [
    "### Resample the datasets using SMOTE-Oversampling "
   ]
  },
  {
   "cell_type": "code",
   "execution_count": 23,
   "metadata": {
    "colab": {
     "base_uri": "https://localhost:8080/"
    },
    "id": "vPyqTFQauQZ0",
    "outputId": "5957c4d8-6509-4943-9ed1-b2b0732ae633"
   },
   "outputs": [
    {
     "name": "stdout",
     "output_type": "stream",
     "text": [
      "After Over(Up)sampling:- Counter({1: 3375, 0: 3375})\n"
     ]
    }
   ],
   "source": [
    "oversample = SMOTE()\n",
    "X_train_ov, y_train_ov = oversample.fit_resample(X_train_pca,y_train)\n",
    "print(\"After Over(Up)sampling:-\",Counter(y_train_ov))"
   ]
  },
  {
   "cell_type": "code",
   "execution_count": 24,
   "metadata": {
    "colab": {
     "base_uri": "https://localhost:8080/",
     "height": 282
    },
    "id": "W8PfBXEyuQZ1",
    "outputId": "e70868fd-4819-43f4-b785-eaedd012e049",
    "scrolled": true
   },
   "outputs": [
    {
     "data": {
      "text/plain": [
       "<Figure size 360x360 with 0 Axes>"
      ]
     },
     "metadata": {},
     "output_type": "display_data"
    },
    {
     "data": {
      "image/png": "[encoded data removed]",
      "text/plain": [
       "<Figure size 432x288 with 1 Axes>"
      ]
     },
     "metadata": {
      "needs_background": "light"
     },
     "output_type": "display_data"
    }
   ],
   "source": [
    "plt.figure(figsize=(5,5)) \n",
    "fig, ax = plt.subplots()\n",
    "for color in ['Inactive', 'Active']:\n",
    "    ax.scatter(X_train_ov[:, 0], X_train_ov[:, 1],\n",
    "               c=y_train_ov, s=10, label=color,\n",
    "               alpha=0.3, cmap='Set1')\n",
    "\n",
    "ax.legend()\n",
    "plt.show()"
   ]
  },
  {
   "cell_type": "markdown",
   "metadata": {
    "id": "LVsYR0qluQZ1"
   },
   "source": [
    "### Resample the datasets using Undersampling"
   ]
  },
  {
   "cell_type": "code",
   "execution_count": 25,
   "metadata": {
    "colab": {
     "base_uri": "https://localhost:8080/"
    },
    "id": "A5XYQjchuQZ2",
    "outputId": "1b1e38c4-ea38-4b44-da25-2f990e372602"
   },
   "outputs": [
    {
     "name": "stdout",
     "output_type": "stream",
     "text": [
      "After Over(Up)sampling:- Counter({0: 48, 1: 48})\n"
     ]
    }
   ],
   "source": [
    "undersample = RandomUnderSampler(random_state=42)\n",
    "X_train_ud, y_train_ud= undersample.fit_resample(X_train_pca,y_train)\n",
    "print(\"After Over(Up)sampling:-\", Counter(y_train_ud))"
   ]
  },
  {
   "cell_type": "code",
   "execution_count": 26,
   "metadata": {
    "colab": {
     "base_uri": "https://localhost:8080/",
     "height": 282
    },
    "id": "uUJjvRZMuQZ2",
    "outputId": "0062bf8c-0fea-4393-9d7b-36039611842b"
   },
   "outputs": [
    {
     "data": {
      "text/plain": [
       "<Figure size 360x360 with 0 Axes>"
      ]
     },
     "metadata": {},
     "output_type": "display_data"
    },
    {
     "data": {
      "image/png": "[encoded data removed]",
      "text/plain": [
       "<Figure size 432x288 with 1 Axes>"
      ]
     },
     "metadata": {
      "needs_background": "light"
     },
     "output_type": "display_data"
    }
   ],
   "source": [
    "plt.figure(figsize=(5,5)) \n",
    "fig, ax = plt.subplots()\n",
    "for color in ['Inactive', 'Active']:\n",
    "    ax.scatter(X_train_ud[:, 0], X_train_ud[:, 1],\n",
    "               c=y_train_ud, s=10, label=color,\n",
    "               alpha=0.3, cmap='Set1')\n",
    "\n",
    "ax.legend()\n",
    "plt.show()"
   ]
  },
  {
   "cell_type": "markdown",
   "metadata": {
    "id": "dDE5gcojuQZ2"
   },
   "source": [
    "# Analysis \n",
    "\n",
    "#### With oversampling data\n",
    "\n",
    "* SVM\n",
    "* KNN\n",
    "* Logistic Regression\n",
    "* Decision Trees\n",
    "* Random Forest\n",
    "* Naive Bayes\n",
    "\n",
    "#### With undersampling data\n",
    "\n",
    "* SVM\n",
    "* KNN\n",
    "* Logistic Regression\n",
    "* Decision Trees\n",
    "* Random Forest\n",
    "* Naive Bayes"
   ]
  },
  {
   "cell_type": "code",
   "execution_count": 26,
   "metadata": {
    "id": "b250CEkouQZ3"
   },
   "outputs": [],
   "source": [
    "def resultsummary(confusion_matrix):\n",
    "    FP = confusion_matrix[0,1]\n",
    "    FN = confusion_matrix[1,0]\n",
    "    TP = confusion_matrix[1,1]\n",
    "    TN = confusion_matrix[0,0]\n",
    "\n",
    "    # Sensitivity, hit rate, recall, or true positive rate\n",
    "    TPR = TP/(TP+FN)\n",
    "    # Specificity or true negative rate\n",
    "    TNR = TN/(TN+FP) \n",
    "    # False positive rate\n",
    "    FPR = FP/(FP+TN)\n",
    "    # False negative rate\n",
    "    FNR = FN/(TP+FN)\n",
    "    # False discovery rate\n",
    "    FDR = FP/(TP+FP)\n",
    "\n",
    "    # Overall accuracy\n",
    "    ACC = (TP+TN)/(TP+FP+FN+TN)\n",
    "    \n",
    "    print('Sensitivity', round(TPR,3))\n",
    "    print('Specificity ', round(TNR,3))\n",
    "    print('False positive rate', round(FPR,3))\n",
    "    print('False negative rate', round(FNR,3))\n",
    "    print('Overall accuracy', round(ACC,3))\n",
    "    \n",
    "    return(TPR, TNR, FPR, FNR, FDR, ACC)"
   ]
  },
  {
   "cell_type": "markdown",
   "metadata": {
    "id": "lEwGyxgPuQZ3"
   },
   "source": [
    "## Oversampling"
   ]
  },
  {
   "cell_type": "markdown",
   "metadata": {},
   "source": [
    "### SVM"
   ]
  },
  {
   "cell_type": "markdown",
   "metadata": {
    "id": "IFBEeMfeuQZ4"
   },
   "source": [
    "#### 1.1 SVM "
   ]
  },
  {
   "cell_type": "code",
   "execution_count": 27,
   "metadata": {
    "colab": {
     "base_uri": "https://localhost:8080/"
    },
    "id": "FoNWpYOIuQZ4",
    "outputId": "0e027e99-7adf-4893-a91c-2db44b14adbe",
    "scrolled": true
   },
   "outputs": [
    {
     "name": "stdout",
     "output_type": "stream",
     "text": [
      "Fitting 5 folds for each of 24 candidates, totalling 120 fits\n"
     ]
    },
    {
     "name": "stderr",
     "output_type": "stream",
     "text": [
      "[Parallel(n_jobs=-1)]: Using backend LokyBackend with 2 concurrent workers.\n",
      "[Parallel(n_jobs=-1)]: Done  46 tasks      | elapsed: 14.9min\n",
      "[Parallel(n_jobs=-1)]: Done 120 out of 120 | elapsed: 17.8min finished\n"
     ]
    },
    {
     "data": {
      "text/plain": [
       "SVC(C=100, break_ties=False, cache_size=200, class_weight=None, coef0=0.0,\n",
       "    decision_function_shape='ovr', degree=3, gamma=0.9, kernel='rbf',\n",
       "    max_iter=-1, probability=False, random_state=None, shrinking=True,\n",
       "    tol=0.001, verbose=False)"
      ]
     },
     "execution_count": 27,
     "metadata": {
      "tags": []
     },
     "output_type": "execute_result"
    }
   ],
   "source": [
    "svc_params = [{'C': [1, 10, 100, 1000], 'kernel': ['linear']},\n",
    "              {'C': [1, 10, 100, 1000], 'kernel': ['rbf'], \n",
    "               'gamma': [0.1, 0.3, 0.5, 0.7, 0.9]}]\n",
    "search = GridSearchCV(SVC(), svc_params, n_jobs=-1, verbose=1)\n",
    "search.fit(X_train_ov, y_train_ov)\n",
    "\n",
    "#to get best score\n",
    "best_accuracy = search.best_score_ \n",
    "#to get best parameters\n",
    "best_parameters = search.best_params_ \n",
    "# select best svc\n",
    "best_svc = search.best_estimator_\n",
    "best_svc"
   ]
  },
  {
   "cell_type": "markdown",
   "metadata": {
    "id": "ZCd4fFUhuQZ4"
   },
   "source": [
    "#### Prediction Results"
   ]
  },
  {
   "cell_type": "code",
   "execution_count": 28,
   "metadata": {
    "colab": {
     "base_uri": "https://localhost:8080/"
    },
    "id": "g6b16P2YuQZ4",
    "outputId": "8a34cd33-9e88-4beb-9edc-3d419c43733f"
   },
   "outputs": [
    {
     "data": {
      "text/plain": [
       "{'C': 100, 'gamma': 0.9, 'kernel': 'rbf'}"
      ]
     },
     "execution_count": 28,
     "metadata": {
      "tags": []
     },
     "output_type": "execute_result"
    }
   ],
   "source": [
    "best_parameters"
   ]
  },
  {
   "cell_type": "code",
   "execution_count": 29,
   "metadata": {
    "id": "ntogiID3uQZ5"
   },
   "outputs": [],
   "source": [
    "svc_model = SVC(C = best_parameters['C'],\n",
    "                gamma = best_parameters['gamma'], \n",
    "                kernel = 'rbf', probability=True)\n",
    "svc_model.fit(X_train_ov, y_train_ov)\n",
    "prediction=svc_model.predict(X_test_pca)"
   ]
  },
  {
   "cell_type": "code",
   "execution_count": 30,
   "metadata": {
    "id": "xHI7Q33buQZ5"
   },
   "outputs": [],
   "source": [
    "svm_pred = prediction"
   ]
  },
  {
   "cell_type": "code",
   "execution_count": 31,
   "metadata": {
    "colab": {
     "base_uri": "https://localhost:8080/"
    },
    "id": "LbqBtbX_uQZ5",
    "outputId": "71419165-c1b9-4725-f022-7c164cc6b5c9",
    "scrolled": true
   },
   "outputs": [
    {
     "name": "stdout",
     "output_type": "stream",
     "text": [
      "Sensitivity 0.227\n",
      "Specificity  0.992\n",
      "False positive rate 0.008\n",
      "False negative rate 0.773\n",
      "Overall accuracy 0.972\n"
     ]
    }
   ],
   "source": [
    "svm_table = confusion_matrix(prediction, y_test)\n",
    "svm_table1 = resultsummary(svm_table)\n",
    "svm_table2 = classification_report(y_test,prediction, output_dict=True)\n",
    "svm_table2 = pd.DataFrame(svm_table2).transpose()\n",
    "svm_prob= svc_model.predict_proba(X_test_pca)[:,1]"
   ]
  },
  {
   "cell_type": "markdown",
   "metadata": {},
   "source": [
    "### KNN"
   ]
  },
  {
   "cell_type": "markdown",
   "metadata": {
    "id": "mFHIxm7cuQZ6"
   },
   "source": [
    "#### 1.2 KNN with grid search "
   ]
  },
  {
   "cell_type": "code",
   "execution_count": 32,
   "metadata": {
    "colab": {
     "base_uri": "https://localhost:8080/"
    },
    "id": "pFM38B9vuQZ6",
    "outputId": "cb3f522a-7a82-4f54-93ce-428cc5ff5b69"
   },
   "outputs": [
    {
     "name": "stdout",
     "output_type": "stream",
     "text": [
      "Fitting 5 folds for each of 216 candidates, totalling 1080 fits\n"
     ]
    },
    {
     "name": "stderr",
     "output_type": "stream",
     "text": [
      "[Parallel(n_jobs=-1)]: Using backend LokyBackend with 2 concurrent workers.\n",
      "[Parallel(n_jobs=-1)]: Done  88 tasks      | elapsed:    4.3s\n",
      "[Parallel(n_jobs=-1)]: Done 388 tasks      | elapsed:   18.2s\n",
      "[Parallel(n_jobs=-1)]: Done 1080 out of 1080 | elapsed:   58.1s finished\n"
     ]
    },
    {
     "data": {
      "text/plain": [
       "KNeighborsClassifier(algorithm='ball_tree', leaf_size=1, metric='minkowski',\n",
       "                     metric_params=None, n_jobs=None, n_neighbors=1, p=2,\n",
       "                     weights='uniform')"
      ]
     },
     "execution_count": 32,
     "metadata": {
      "tags": []
     },
     "output_type": "execute_result"
    }
   ],
   "source": [
    "knn_param = {\n",
    "    \"n_neighbors\": [i for i in range(1,30,5)],\n",
    "    \"weights\": [\"uniform\", \"distance\"],\n",
    "    \"algorithm\": [\"ball_tree\", \"kd_tree\", \"brute\"],\n",
    "    \"leaf_size\": [1, 10, 30],\n",
    "    \"p\": [1,2]\n",
    "}\n",
    "search = GridSearchCV(KNeighborsClassifier(), \n",
    "                      knn_param, n_jobs=-1, verbose=1)\n",
    "search.fit(X_train_ov, y_train_ov)\n",
    "\n",
    "#to get best score\n",
    "best_accuracy = search.best_score_ \n",
    "#to get best parameters\n",
    "best_parameters = search.best_params_\n",
    "# select best svc\n",
    "best_knn = search.best_estimator_\n",
    "best_knn"
   ]
  },
  {
   "cell_type": "markdown",
   "metadata": {
    "id": "bpMsuUyruQZ6"
   },
   "source": [
    "#### Prediction Results"
   ]
  },
  {
   "cell_type": "code",
   "execution_count": 33,
   "metadata": {
    "colab": {
     "base_uri": "https://localhost:8080/"
    },
    "id": "oWh_abe0uQZ7",
    "outputId": "4c4f84f9-5b1b-4cd4-f922-276a9064762c"
   },
   "outputs": [
    {
     "data": {
      "text/plain": [
       "{'algorithm': 'ball_tree',\n",
       " 'leaf_size': 1,\n",
       " 'n_neighbors': 1,\n",
       " 'p': 2,\n",
       " 'weights': 'uniform'}"
      ]
     },
     "execution_count": 33,
     "metadata": {
      "tags": []
     },
     "output_type": "execute_result"
    }
   ],
   "source": [
    "best_parameters"
   ]
  },
  {
   "cell_type": "code",
   "execution_count": 34,
   "metadata": {
    "id": "2NtjQkxjuQZ7"
   },
   "outputs": [],
   "source": [
    "knn_model = KNeighborsClassifier(\n",
    "    algorithm = best_parameters['algorithm'],\n",
    "    leaf_size = best_parameters['leaf_size'], \n",
    "    n_neighbors = best_parameters['n_neighbors'],\n",
    "    p = best_parameters['p'],\n",
    "    weights = best_parameters['weights'])\n",
    "knn_model.fit(X_train_ov,y_train_ov)\n",
    "prediction=knn_model.predict(X_test_pca)"
   ]
  },
  {
   "cell_type": "code",
   "execution_count": 35,
   "metadata": {
    "id": "qza-ZoFQuQZ8"
   },
   "outputs": [],
   "source": [
    "knn_pred = prediction"
   ]
  },
  {
   "cell_type": "code",
   "execution_count": 36,
   "metadata": {
    "colab": {
     "base_uri": "https://localhost:8080/"
    },
    "id": "vyh9mOMbuQZ8",
    "outputId": "dbb2ef1a-0925-4660-bb40-183c72382ce1"
   },
   "outputs": [
    {
     "name": "stdout",
     "output_type": "stream",
     "text": [
      "Sensitivity 0.172\n",
      "Specificity  0.992\n",
      "False positive rate 0.008\n",
      "False negative rate 0.828\n",
      "Overall accuracy 0.964\n"
     ]
    }
   ],
   "source": [
    "knn_table = confusion_matrix(prediction, y_test)\n",
    "knn_table1 = resultsummary(knn_table)\n",
    "knn_table2 = classification_report(y_test,\n",
    "                                   prediction, \n",
    "                                   output_dict=True)\n",
    "knn_table2 = pd.DataFrame(knn_table2).transpose()\n",
    "knn_prob= knn_model.predict_proba(X_test_pca)[:,1]"
   ]
  },
  {
   "cell_type": "markdown",
   "metadata": {},
   "source": [
    "### LogisticRegression"
   ]
  },
  {
   "cell_type": "markdown",
   "metadata": {
    "id": "Sngsf3vcuQZ9"
   },
   "source": [
    "#### 1.3 Logistic regression"
   ]
  },
  {
   "cell_type": "code",
   "execution_count": 37,
   "metadata": {
    "colab": {
     "base_uri": "https://localhost:8080/"
    },
    "id": "5dL-f5_RuQZ9",
    "outputId": "e478a518-7340-4e7d-eb03-c1c255245e88"
   },
   "outputs": [
    {
     "data": {
      "text/plain": [
       "LogisticRegression(C=0.01, class_weight=None, dual=False, fit_intercept=True,\n",
       "                   intercept_scaling=1, l1_ratio=None, max_iter=100,\n",
       "                   multi_class='auto', n_jobs=None, penalty='l2',\n",
       "                   random_state=None, solver='liblinear', tol=0.0001, verbose=0,\n",
       "                   warm_start=False)"
      ]
     },
     "execution_count": 37,
     "metadata": {
      "tags": []
     },
     "output_type": "execute_result"
    }
   ],
   "source": [
    "log_grid = {'C': [1e-03, 1e-2, 1e-1, 1, 10], \n",
    "                 'penalty': ['l1', 'l2']}\n",
    "log_model = GridSearchCV(\n",
    "    estimator = LogisticRegression(solver='liblinear'), \n",
    "    param_grid = log_grid, \n",
    "    cv = 3,\n",
    "    scoring = 'accuracy')\n",
    "log_model.fit(X_train_ov, y_train_ov)\n",
    "#to get best score\n",
    "best_accuracy = log_model.best_score_ \n",
    "#to get best parameters\n",
    "best_parameters = log_model.best_params_ \n",
    "# select best svc\n",
    "best_lr = log_model.best_estimator_\n",
    "best_lr"
   ]
  },
  {
   "cell_type": "markdown",
   "metadata": {
    "id": "dwFF7SRhuQZ9"
   },
   "source": [
    "#### Prediction Results"
   ]
  },
  {
   "cell_type": "code",
   "execution_count": 38,
   "metadata": {
    "colab": {
     "base_uri": "https://localhost:8080/"
    },
    "id": "tMk_psjjuQZ-",
    "outputId": "0d26371f-ffb7-4586-f1a2-e0a8307ad42e"
   },
   "outputs": [
    {
     "data": {
      "text/plain": [
       "{'C': 0.01, 'penalty': 'l2'}"
      ]
     },
     "execution_count": 38,
     "metadata": {
      "tags": []
     },
     "output_type": "execute_result"
    }
   ],
   "source": [
    "best_parameters"
   ]
  },
  {
   "cell_type": "code",
   "execution_count": 39,
   "metadata": {
    "id": "331UgVA3uQZ-"
   },
   "outputs": [],
   "source": [
    "lr_model = LogisticRegression(\n",
    "    C = best_parameters['C'], \n",
    "    penalty = best_parameters['penalty'],\n",
    "    solver = 'liblinear')\n",
    "lr_model.fit(X_train_ov,y_train_ov)\n",
    "prediction=lr_model.predict(X_test_pca)"
   ]
  },
  {
   "cell_type": "code",
   "execution_count": 40,
   "metadata": {
    "id": "g0j00U8JuQZ-"
   },
   "outputs": [],
   "source": [
    "lr_pred = prediction"
   ]
  },
  {
   "cell_type": "code",
   "execution_count": 41,
   "metadata": {
    "colab": {
     "base_uri": "https://localhost:8080/"
    },
    "id": "VXgya5IZuQZ-",
    "outputId": "57b86657-711f-48c1-e7f7-138a4c11cc4a"
   },
   "outputs": [
    {
     "name": "stdout",
     "output_type": "stream",
     "text": [
      "Sensitivity 0.028\n",
      "Specificity  0.994\n",
      "False positive rate 0.006\n",
      "False negative rate 0.972\n",
      "Overall accuracy 0.632\n"
     ]
    }
   ],
   "source": [
    "lr_table = confusion_matrix(prediction, y_test)\n",
    "lr_table1 = resultsummary(lr_table)\n",
    "lr_table2 = classification_report(y_test,\n",
    "                                   prediction, \n",
    "                                   output_dict=True)\n",
    "lr_table2 = pd.DataFrame(lr_table2).transpose()\n",
    "lr_prob= lr_model.predict_proba(X_test_pca)[:,1]"
   ]
  },
  {
   "cell_type": "markdown",
   "metadata": {},
   "source": [
    "###  DecisionTrees"
   ]
  },
  {
   "cell_type": "markdown",
   "metadata": {
    "id": "Hp8UJcmuuQZ_"
   },
   "source": [
    "#### 1.4 Decision trees"
   ]
  },
  {
   "cell_type": "code",
   "execution_count": 42,
   "metadata": {
    "colab": {
     "base_uri": "https://localhost:8080/"
    },
    "id": "OuOCATipuQZ_",
    "outputId": "34db52ed-bddb-4712-bb69-46e51ca3dccf"
   },
   "outputs": [
    {
     "name": "stdout",
     "output_type": "stream",
     "text": [
      "Fitting 3 folds for each of 2940 candidates, totalling 8820 fits\n"
     ]
    },
    {
     "name": "stderr",
     "output_type": "stream",
     "text": [
      "[Parallel(n_jobs=1)]: Using backend SequentialBackend with 1 concurrent workers.\n",
      "[Parallel(n_jobs=1)]: Done 8820 out of 8820 | elapsed:  2.2min finished\n"
     ]
    },
    {
     "data": {
      "text/plain": [
       "DecisionTreeClassifier(ccp_alpha=0.0, class_weight=None, criterion='gini',\n",
       "                       max_depth=8, max_features=None, max_leaf_nodes=48,\n",
       "                       min_impurity_decrease=0.0, min_impurity_split=None,\n",
       "                       min_samples_leaf=1, min_samples_split=2,\n",
       "                       min_weight_fraction_leaf=0.0, presort='deprecated',\n",
       "                       random_state=42, splitter='best')"
      ]
     },
     "execution_count": 42,
     "metadata": {
      "tags": []
     },
     "output_type": "execute_result"
    }
   ],
   "source": [
    "params = {'max_leaf_nodes': list(range(2, 100)), \n",
    "          'min_samples_split': [2, 3, 4, 5, 6], \n",
    "          'max_depth':[3,4,5,6,7,8]}\n",
    "decision_search = GridSearchCV(\n",
    "    DecisionTreeClassifier(random_state=42), \n",
    "    params, verbose=1, cv=3)\n",
    "decision_search.fit(X_train_ov, y_train_ov)\n",
    "\n",
    "#to get best score\n",
    "best_accuracy = decision_search.best_score_ \n",
    "#to get best parameters\n",
    "best_parameters = decision_search.best_params_ \n",
    "# select best svc\n",
    "best_ds = decision_search.best_estimator_\n",
    "best_ds"
   ]
  },
  {
   "cell_type": "markdown",
   "metadata": {
    "id": "ow9NqTHauQZ_"
   },
   "source": [
    "#### Prediction Results"
   ]
  },
  {
   "cell_type": "code",
   "execution_count": 43,
   "metadata": {
    "colab": {
     "base_uri": "https://localhost:8080/"
    },
    "id": "XAsc5K9VuQaA",
    "outputId": "4e715069-b25d-4cd6-b17a-8e510e771656"
   },
   "outputs": [
    {
     "data": {
      "text/plain": [
       "{'max_depth': 8, 'max_leaf_nodes': 48, 'min_samples_split': 2}"
      ]
     },
     "execution_count": 43,
     "metadata": {
      "tags": []
     },
     "output_type": "execute_result"
    }
   ],
   "source": [
    "best_parameters"
   ]
  },
  {
   "cell_type": "code",
   "execution_count": 44,
   "metadata": {
    "id": "GJsH6FSauQaA"
   },
   "outputs": [],
   "source": [
    "ds_model = DecisionTreeClassifier(\n",
    "    max_depth = best_parameters['max_depth'], \n",
    "    max_leaf_nodes = best_parameters['max_leaf_nodes'], \n",
    "    min_samples_split = best_parameters['min_samples_split'], \n",
    "    random_state=42)\n",
    "ds_model.fit(X_train_ov,y_train_ov)\n",
    "prediction=ds_model.predict(X_test_pca)"
   ]
  },
  {
   "cell_type": "code",
   "execution_count": 45,
   "metadata": {
    "id": "iNp2v-A2uQaA"
   },
   "outputs": [],
   "source": [
    "ds_pred = prediction"
   ]
  },
  {
   "cell_type": "code",
   "execution_count": 46,
   "metadata": {
    "colab": {
     "base_uri": "https://localhost:8080/"
    },
    "id": "_CKU76WCuQaB",
    "outputId": "cef38b3b-2591-43b1-d67c-f9bc50df70d6"
   },
   "outputs": [
    {
     "name": "stdout",
     "output_type": "stream",
     "text": [
      "Sensitivity 0.046\n",
      "Specificity  0.994\n",
      "False positive rate 0.006\n",
      "False negative rate 0.954\n",
      "Overall accuracy 0.8\n"
     ]
    }
   ],
   "source": [
    "ds_table = confusion_matrix(prediction, y_test)\n",
    "ds_table1 = resultsummary(ds_table)\n",
    "ds_table2 = classification_report(y_test,\n",
    "                                   prediction, \n",
    "                                   output_dict=True)\n",
    "ds_table2 = pd.DataFrame(ds_table2).transpose()\n",
    "ds_prob= ds_model.predict_proba(X_test_pca)[:,1]"
   ]
  },
  {
   "cell_type": "markdown",
   "metadata": {},
   "source": [
    "### RandomForest"
   ]
  },
  {
   "cell_type": "markdown",
   "metadata": {
    "id": "AIad9hPluQaB"
   },
   "source": [
    "#### 1.5 Random Forest"
   ]
  },
  {
   "cell_type": "code",
   "execution_count": 47,
   "metadata": {
    "colab": {
     "base_uri": "https://localhost:8080/"
    },
    "id": "CNM_IPBpuQaB",
    "outputId": "58462d18-bd11-4534-8c3e-b8138f7e7c05"
   },
   "outputs": [
    {
     "data": {
      "text/plain": [
       "RandomForestClassifier(bootstrap=False, ccp_alpha=0.0, class_weight=None,\n",
       "                       criterion='gini', max_depth=None, max_features=0.6,\n",
       "                       max_leaf_nodes=None, max_samples=None,\n",
       "                       min_impurity_decrease=0.0, min_impurity_split=None,\n",
       "                       min_samples_leaf=8, min_samples_split=3,\n",
       "                       min_weight_fraction_leaf=0.0, n_estimators=70,\n",
       "                       n_jobs=None, oob_score=False, random_state=None,\n",
       "                       verbose=0, warm_start=False)"
      ]
     },
     "execution_count": 47,
     "metadata": {
      "tags": []
     },
     "output_type": "execute_result"
    }
   ],
   "source": [
    "# Hyperparameters search grid \n",
    "rf_param_grid = {'bootstrap': [False, True],\n",
    "         'n_estimators': [60, 70, 80, 90, 100],\n",
    "         'max_features': [0.6, 0.65, 0.7, 0.75, 0.8],\n",
    "         'min_samples_leaf': [8, 10, 12, 14],\n",
    "         'min_samples_split': [3, 5, 7]\n",
    "        }\n",
    "\n",
    "# Create the GridSearchCV object\n",
    "rf_search = GridSearchCV(\n",
    "    estimator=RandomForestClassifier(), \n",
    "    param_grid=rf_param_grid, \n",
    "    cv=3, \n",
    "    scoring='accuracy')\n",
    "rf_search.fit(X_train_ov, y_train_ov)\n",
    "\n",
    "#to get best score\n",
    "best_accuracy = rf_search.best_score_\n",
    "#to get best parameters\n",
    "best_parameters = rf_search.best_params_ \n",
    "# select best svc\n",
    "best_rf = rf_search.best_estimator_\n",
    "best_rf"
   ]
  },
  {
   "cell_type": "markdown",
   "metadata": {
    "id": "VS0iX7ZeuQaC"
   },
   "source": [
    "#### Prediction Results"
   ]
  },
  {
   "cell_type": "code",
   "execution_count": 48,
   "metadata": {
    "colab": {
     "base_uri": "https://localhost:8080/"
    },
    "id": "4-TKcXO1uQaC",
    "outputId": "dc9462d6-7d09-4937-b2d7-c9dbfc19ee00"
   },
   "outputs": [
    {
     "data": {
      "text/plain": [
       "{'bootstrap': False,\n",
       " 'max_features': 0.6,\n",
       " 'min_samples_leaf': 8,\n",
       " 'min_samples_split': 3,\n",
       " 'n_estimators': 70}"
      ]
     },
     "execution_count": 48,
     "metadata": {
      "tags": []
     },
     "output_type": "execute_result"
    }
   ],
   "source": [
    "best_parameters"
   ]
  },
  {
   "cell_type": "code",
   "execution_count": 49,
   "metadata": {
    "id": "98hHSowjuQaC"
   },
   "outputs": [],
   "source": [
    "rf_model = RandomForestClassifier(\n",
    "    bootstrap = best_parameters['bootstrap'], \n",
    "    max_features = best_parameters['max_features'], \n",
    "    min_samples_leaf = best_parameters['min_samples_leaf'],\n",
    "    min_samples_split = best_parameters['min_samples_split'], \n",
    "    n_estimators = best_parameters['n_estimators'])\n",
    "rf_model.fit(X_train_ov,y_train_ov)\n",
    "prediction = rf_model.predict(X_test_pca)"
   ]
  },
  {
   "cell_type": "code",
   "execution_count": 50,
   "metadata": {
    "id": "7v-fZ-PXuQaD"
   },
   "outputs": [],
   "source": [
    "rf_pred = prediction"
   ]
  },
  {
   "cell_type": "code",
   "execution_count": 51,
   "metadata": {
    "colab": {
     "base_uri": "https://localhost:8080/"
    },
    "id": "zfTeAWHRuQaD",
    "outputId": "d138f2b6-f80c-47c6-e012-d21a29befc34"
   },
   "outputs": [
    {
     "name": "stdout",
     "output_type": "stream",
     "text": [
      "Sensitivity 0.1\n",
      "Specificity  0.991\n",
      "False positive rate 0.009\n",
      "False negative rate 0.9\n",
      "Overall accuracy 0.939\n"
     ]
    }
   ],
   "source": [
    "rf_table = confusion_matrix(prediction, y_test)\n",
    "rf_table1 = resultsummary(rf_table)\n",
    "rf_table2 = classification_report(y_test,\n",
    "                                   prediction, \n",
    "                                   output_dict=True)\n",
    "rf_table2 = pd.DataFrame(rf_table2).transpose()\n",
    "rf_prob = rf_model.predict_proba(X_test_pca)[:,1]"
   ]
  },
  {
   "cell_type": "markdown",
   "metadata": {},
   "source": [
    "### NaiveBayes"
   ]
  },
  {
   "cell_type": "markdown",
   "metadata": {
    "id": "bGETlHsguQaF"
   },
   "source": [
    "#### 1.7 Naive Bayes"
   ]
  },
  {
   "cell_type": "code",
   "execution_count": 52,
   "metadata": {
    "id": "ug3ktZ_MuQaG"
   },
   "outputs": [],
   "source": [
    "nb_model = GaussianNB()\n",
    "nb_model.fit(X_train_ov,y_train_ov)\n",
    "prediction=nb_model.predict(X_test_pca)"
   ]
  },
  {
   "cell_type": "code",
   "execution_count": 53,
   "metadata": {
    "id": "FOAwbwt2uQaG"
   },
   "outputs": [],
   "source": [
    "nb_pred = prediction"
   ]
  },
  {
   "cell_type": "code",
   "execution_count": 54,
   "metadata": {
    "colab": {
     "base_uri": "https://localhost:8080/"
    },
    "id": "BqR0DK_JuQaG",
    "outputId": "422846ee-76ed-4924-e90b-4800c50512b2"
   },
   "outputs": [
    {
     "name": "stdout",
     "output_type": "stream",
     "text": [
      "Sensitivity 0.024\n",
      "Specificity  0.994\n",
      "False positive rate 0.006\n",
      "False negative rate 0.976\n",
      "Overall accuracy 0.572\n"
     ]
    }
   ],
   "source": [
    "nb_table = confusion_matrix(prediction, y_test)\n",
    "nb_table1 = resultsummary(nb_table)\n",
    "nb_table2 = classification_report(y_test,\n",
    "                                   prediction, \n",
    "                                   output_dict=True)\n",
    "nb_table2 = pd.DataFrame(nb_table2).transpose()\n",
    "nb_prob = nb_model.predict_proba(X_test_pca)[:,1]"
   ]
  },
  {
   "cell_type": "markdown",
   "metadata": {
    "id": "7s3ya7tyuQaG"
   },
   "source": [
    "### Undersampling"
   ]
  },
  {
   "cell_type": "markdown",
   "metadata": {
    "id": "5qUT9RyNuQaH"
   },
   "source": [
    "#### 2.1 SVM"
   ]
  },
  {
   "cell_type": "code",
   "execution_count": 55,
   "metadata": {
    "colab": {
     "base_uri": "https://localhost:8080/"
    },
    "id": "xV-b9xO6uQaH",
    "outputId": "471bc05b-3256-4d4f-bf12-1158025eaa8b"
   },
   "outputs": [
    {
     "name": "stdout",
     "output_type": "stream",
     "text": [
      "Fitting 5 folds for each of 24 candidates, totalling 120 fits\n"
     ]
    },
    {
     "name": "stderr",
     "output_type": "stream",
     "text": [
      "[Parallel(n_jobs=-1)]: Using backend LokyBackend with 2 concurrent workers.\n",
      "[Parallel(n_jobs=-1)]: Done 117 out of 120 | elapsed:    1.5s remaining:    0.0s\n",
      "[Parallel(n_jobs=-1)]: Done 120 out of 120 | elapsed:    2.0s finished\n"
     ]
    },
    {
     "data": {
      "text/plain": [
       "SVC(C=1, break_ties=False, cache_size=200, class_weight=None, coef0=0.0,\n",
       "    decision_function_shape='ovr', degree=3, gamma='scale', kernel='linear',\n",
       "    max_iter=-1, probability=False, random_state=None, shrinking=True,\n",
       "    tol=0.001, verbose=False)"
      ]
     },
     "execution_count": 55,
     "metadata": {
      "tags": []
     },
     "output_type": "execute_result"
    }
   ],
   "source": [
    "svc_params = [{'C': [1, 10, 100, 1000], 'kernel': ['linear']},\n",
    "              {'C': [1, 10, 100, 1000], 'kernel': ['rbf'], \n",
    "                'gamma': [0.1, 0.3, 0.5, 0.7, 0.9]}]\n",
    "search = GridSearchCV(SVC(), svc_params, n_jobs=-1, verbose=1)\n",
    "search.fit(X_train_ud, y_train_ud)\n",
    "\n",
    "#to get best score\n",
    "best_accuracy = search.best_score_ \n",
    "#to get best parameters\n",
    "best_parameters = search.best_params_ \n",
    "# select best svc\n",
    "best_svc = search.best_estimator_\n",
    "best_svc"
   ]
  },
  {
   "cell_type": "markdown",
   "metadata": {
    "id": "FK6jk4t_uQaH"
   },
   "source": [
    "#### Prediction Results"
   ]
  },
  {
   "cell_type": "code",
   "execution_count": 56,
   "metadata": {
    "colab": {
     "base_uri": "https://localhost:8080/"
    },
    "id": "3LYA7zXjuQaH",
    "outputId": "91a12903-2fd9-4c8b-d0ab-1b48b5f2da03"
   },
   "outputs": [
    {
     "data": {
      "text/plain": [
       "{'C': 1, 'kernel': 'linear'}"
      ]
     },
     "execution_count": 56,
     "metadata": {
      "tags": []
     },
     "output_type": "execute_result"
    }
   ],
   "source": [
    "best_parameters"
   ]
  },
  {
   "cell_type": "code",
   "execution_count": 58,
   "metadata": {
    "id": "47RFbpTjuQaI"
   },
   "outputs": [],
   "source": [
    "svc_model = SVC(C = 100,\n",
    "                gamma = 0.1, \n",
    "                kernel = 'rbf', probability=True)\n",
    "svc_model.fit(X_train_ud, y_train_ud)\n",
    "prediction=svc_model.predict(X_test_pca)"
   ]
  },
  {
   "cell_type": "code",
   "execution_count": 60,
   "metadata": {
    "id": "KusVkQrsuQaI"
   },
   "outputs": [],
   "source": [
    "svm_pred2 = prediction"
   ]
  },
  {
   "cell_type": "code",
   "execution_count": 59,
   "metadata": {
    "colab": {
     "base_uri": "https://localhost:8080/"
    },
    "id": "SDpXKvkyuQaI",
    "outputId": "fd00b5c9-d408-405a-b8dc-1cf746dec3e6"
   },
   "outputs": [
    {
     "name": "stdout",
     "output_type": "stream",
     "text": [
      "Sensitivity 0.033\n",
      "Specificity  1.0\n",
      "False positive rate 0.0\n",
      "False negative rate 0.967\n",
      "Overall accuracy 0.583\n"
     ]
    }
   ],
   "source": [
    "svm_table = confusion_matrix(prediction, y_test)\n",
    "svm_table3 = resultsummary(svm_table)\n",
    "svm_table4 = classification_report(y_test,prediction, output_dict=True)\n",
    "svm_table4 = pd.DataFrame(svm_table4).transpose()\n",
    "svm_prob2 = svc_model.predict_proba(X_test_pca)[:,1]"
   ]
  },
  {
   "cell_type": "markdown",
   "metadata": {
    "id": "e7tz-L-fuQaI"
   },
   "source": [
    "#### 2.2 KNN"
   ]
  },
  {
   "cell_type": "code",
   "execution_count": 61,
   "metadata": {
    "colab": {
     "base_uri": "https://localhost:8080/"
    },
    "id": "-bDjDYEyuQaJ",
    "outputId": "0a989f15-506b-443b-8a67-a6cdd3525cef"
   },
   "outputs": [
    {
     "name": "stdout",
     "output_type": "stream",
     "text": [
      "Fitting 5 folds for each of 216 candidates, totalling 1080 fits\n"
     ]
    },
    {
     "name": "stderr",
     "output_type": "stream",
     "text": [
      "[Parallel(n_jobs=-1)]: Using backend LokyBackend with 2 concurrent workers.\n",
      "[Parallel(n_jobs=-1)]: Done 1050 tasks      | elapsed:    1.5s\n",
      "[Parallel(n_jobs=-1)]: Done 1077 out of 1080 | elapsed:    1.5s remaining:    0.0s\n",
      "[Parallel(n_jobs=-1)]: Done 1080 out of 1080 | elapsed:    1.5s finished\n"
     ]
    },
    {
     "data": {
      "text/plain": [
       "KNeighborsClassifier(algorithm='ball_tree', leaf_size=1, metric='minkowski',\n",
       "                     metric_params=None, n_jobs=None, n_neighbors=11, p=2,\n",
       "                     weights='distance')"
      ]
     },
     "execution_count": 61,
     "metadata": {
      "tags": []
     },
     "output_type": "execute_result"
    }
   ],
   "source": [
    "knn_param = {\n",
    "  \"n_neighbors\": [i for i in range(1,30,5)],\n",
    "  \"weights\": [\"uniform\", \"distance\"],\n",
    "  \"algorithm\": [\"ball_tree\", \"kd_tree\", \"brute\"],\n",
    "  \"leaf_size\": [1, 10, 30],\n",
    "  \"p\": [1,2]\n",
    "}\n",
    "search = GridSearchCV(KNeighborsClassifier(), \n",
    "                      knn_param, n_jobs=-1, verbose=1)\n",
    "search.fit(X_train_ud, y_train_ud)\n",
    "\n",
    "#to get best score\n",
    "best_accuracy = search.best_score_ \n",
    "#to get best parameters\n",
    "best_parameters = search.best_params_\n",
    "# select best svc\n",
    "best_knn = search.best_estimator_\n",
    "best_knn"
   ]
  },
  {
   "cell_type": "code",
   "execution_count": 62,
   "metadata": {
    "colab": {
     "base_uri": "https://localhost:8080/"
    },
    "id": "bERmHQsMuQaJ",
    "outputId": "b892cc09-bed7-4195-ea96-6eb7f8c7faba"
   },
   "outputs": [
    {
     "data": {
      "text/plain": [
       "{'algorithm': 'ball_tree',\n",
       " 'leaf_size': 1,\n",
       " 'n_neighbors': 11,\n",
       " 'p': 2,\n",
       " 'weights': 'distance'}"
      ]
     },
     "execution_count": 62,
     "metadata": {
      "tags": []
     },
     "output_type": "execute_result"
    }
   ],
   "source": [
    "best_parameters"
   ]
  },
  {
   "cell_type": "markdown",
   "metadata": {
    "id": "z-0bStKYuQaJ"
   },
   "source": [
    "#### Prediction Results"
   ]
  },
  {
   "cell_type": "code",
   "execution_count": 63,
   "metadata": {
    "id": "kOFrNbp8uQaJ"
   },
   "outputs": [],
   "source": [
    "knn_model = KNeighborsClassifier(\n",
    "  algorithm = best_parameters['algorithm'],\n",
    "  leaf_size = best_parameters['leaf_size'], \n",
    "  n_neighbors = best_parameters['n_neighbors'],\n",
    "  p = best_parameters['p'],\n",
    "  weights = best_parameters['weights'])\n",
    "knn_model.fit(X_train_ud,y_train_ud)\n",
    "prediction=knn_model.predict(X_test_pca)"
   ]
  },
  {
   "cell_type": "code",
   "execution_count": 64,
   "metadata": {
    "id": "MXqVeVFeuQaK"
   },
   "outputs": [],
   "source": [
    "knn_pred2 = prediction"
   ]
  },
  {
   "cell_type": "code",
   "execution_count": 65,
   "metadata": {
    "colab": {
     "base_uri": "https://localhost:8080/"
    },
    "id": "XWBmKbJouQaK",
    "outputId": "37d4d191-2f01-485e-cc77-8003967cb480"
   },
   "outputs": [
    {
     "name": "stdout",
     "output_type": "stream",
     "text": [
      "Sensitivity 0.044\n",
      "Specificity  1.0\n",
      "False positive rate 0.0\n",
      "False negative rate 0.956\n",
      "Overall accuracy 0.693\n"
     ]
    }
   ],
   "source": [
    "knn_table = confusion_matrix(prediction, y_test)\n",
    "knn_table3 = resultsummary(knn_table)\n",
    "knn_table4 = classification_report(y_test,\n",
    "                                   prediction, \n",
    "                                   output_dict=True)\n",
    "knn_table4 = pd.DataFrame(knn_table4).transpose()\n",
    "knn_prob2 = knn_model.predict_proba(X_test_pca)[:,1]"
   ]
  },
  {
   "cell_type": "markdown",
   "metadata": {
    "id": "5jS4EFafuQaK"
   },
   "source": [
    "#### 2.3 Logistic Regression"
   ]
  },
  {
   "cell_type": "code",
   "execution_count": 66,
   "metadata": {
    "colab": {
     "base_uri": "https://localhost:8080/"
    },
    "id": "LilaQj4HuQaK",
    "outputId": "8c9fd0cb-756f-4eff-a64e-71e9fbe27403"
   },
   "outputs": [
    {
     "data": {
      "text/plain": [
       "LogisticRegression(C=0.1, class_weight=None, dual=False, fit_intercept=True,\n",
       "                   intercept_scaling=1, l1_ratio=None, max_iter=100,\n",
       "                   multi_class='auto', n_jobs=None, penalty='l2',\n",
       "                   random_state=None, solver='liblinear', tol=0.0001, verbose=0,\n",
       "                   warm_start=False)"
      ]
     },
     "execution_count": 66,
     "metadata": {
      "tags": []
     },
     "output_type": "execute_result"
    }
   ],
   "source": [
    "log_grid = {'C': [1e-03, 1e-2, 1e-1, 1, 10], \n",
    "  'penalty': ['l1', 'l2']}\n",
    "log_model = GridSearchCV(\n",
    "  estimator = LogisticRegression(solver='liblinear'), \n",
    "  param_grid = log_grid, \n",
    "  cv = 3,\n",
    "  scoring = 'accuracy')\n",
    "log_model.fit(X_train_ud, y_train_ud)\n",
    "#to get best score\n",
    "best_accuracy = log_model.best_score_ \n",
    "#to get best parameters\n",
    "best_parameters = log_model.best_params_ \n",
    "# select best svc\n",
    "best_lr = log_model.best_estimator_\n",
    "best_lr"
   ]
  },
  {
   "cell_type": "code",
   "execution_count": 67,
   "metadata": {
    "colab": {
     "base_uri": "https://localhost:8080/"
    },
    "id": "nwCOk17MuQaL",
    "outputId": "634d5e61-ec28-4d10-9cb2-0e1e8f79efd5"
   },
   "outputs": [
    {
     "data": {
      "text/plain": [
       "{'C': 0.1, 'penalty': 'l2'}"
      ]
     },
     "execution_count": 67,
     "metadata": {
      "tags": []
     },
     "output_type": "execute_result"
    }
   ],
   "source": [
    "best_parameters"
   ]
  },
  {
   "cell_type": "markdown",
   "metadata": {
    "id": "9ZAvjTLeuQaL"
   },
   "source": [
    "#### Prediction Results"
   ]
  },
  {
   "cell_type": "code",
   "execution_count": 68,
   "metadata": {
    "id": "iOwRLyHDuQaQ"
   },
   "outputs": [],
   "source": [
    "lr_model = LogisticRegression(\n",
    "  C = best_parameters['C'], \n",
    "  penalty = best_parameters['penalty'],\n",
    "  solver='liblinear')\n",
    "lr_model.fit(X_train_ud,y_train_ud)\n",
    "prediction=lr_model.predict(X_test_pca)"
   ]
  },
  {
   "cell_type": "code",
   "execution_count": 69,
   "metadata": {
    "id": "QA4QAx3euQaQ"
   },
   "outputs": [],
   "source": [
    "lr_pred2 = prediction"
   ]
  },
  {
   "cell_type": "code",
   "execution_count": 70,
   "metadata": {
    "colab": {
     "base_uri": "https://localhost:8080/"
    },
    "id": "PNefqpXuuQaR",
    "outputId": "d75931b8-bd5c-485f-95e4-29f4cc394d3e"
   },
   "outputs": [
    {
     "name": "stdout",
     "output_type": "stream",
     "text": [
      "Sensitivity 0.023\n",
      "Specificity  0.994\n",
      "False positive rate 0.006\n",
      "False negative rate 0.977\n",
      "Overall accuracy 0.56\n"
     ]
    }
   ],
   "source": [
    "lr_table = confusion_matrix(prediction, y_test)\n",
    "lr_table3 = resultsummary(lr_table)\n",
    "lr_table4 = classification_report(y_test,\n",
    "                                  prediction, \n",
    "                                  output_dict=True)\n",
    "lr_table4 = pd.DataFrame(lr_table4).transpose()\n",
    "lr_prob2 = lr_model.predict_proba(X_test_pca)[:,1]"
   ]
  },
  {
   "cell_type": "markdown",
   "metadata": {
    "id": "QeyXFe49uQaR"
   },
   "source": [
    "#### 2.4 Decision Trees"
   ]
  },
  {
   "cell_type": "code",
   "execution_count": 71,
   "metadata": {
    "colab": {
     "base_uri": "https://localhost:8080/"
    },
    "id": "AZEd9_IVuQaR",
    "outputId": "5b8268aa-6898-4004-f830-305f372ad298"
   },
   "outputs": [
    {
     "name": "stdout",
     "output_type": "stream",
     "text": [
      "Fitting 3 folds for each of 2940 candidates, totalling 8820 fits\n"
     ]
    },
    {
     "name": "stderr",
     "output_type": "stream",
     "text": [
      "[Parallel(n_jobs=1)]: Using backend SequentialBackend with 1 concurrent workers.\n",
      "[Parallel(n_jobs=1)]: Done 8820 out of 8820 | elapsed:   10.6s finished\n"
     ]
    },
    {
     "data": {
      "text/plain": [
       "DecisionTreeClassifier(ccp_alpha=0.0, class_weight=None, criterion='gini',\n",
       "                       max_depth=4, max_features=None, max_leaf_nodes=6,\n",
       "                       min_impurity_decrease=0.0, min_impurity_split=None,\n",
       "                       min_samples_leaf=1, min_samples_split=2,\n",
       "                       min_weight_fraction_leaf=0.0, presort='deprecated',\n",
       "                       random_state=42, splitter='best')"
      ]
     },
     "execution_count": 71,
     "metadata": {
      "tags": []
     },
     "output_type": "execute_result"
    }
   ],
   "source": [
    "params = {'max_leaf_nodes': list(range(2, 100)), \n",
    "  'min_samples_split': [2, 3, 4, 5, 6], \n",
    "  'max_depth':[3,4,5,6,7,8]}\n",
    "decision_search = GridSearchCV(\n",
    "  DecisionTreeClassifier(random_state=42), \n",
    "  params, verbose=1, cv=3)\n",
    "decision_search.fit(X_train_ud, y_train_ud)\n",
    "\n",
    "#to get best score\n",
    "best_accuracy = decision_search.best_score_ \n",
    "#to get best parameters\n",
    "best_parameters = decision_search.best_params_ \n",
    "# select best svc\n",
    "best_ds = decision_search.best_estimator_\n",
    "best_ds"
   ]
  },
  {
   "cell_type": "code",
   "execution_count": 72,
   "metadata": {
    "colab": {
     "base_uri": "https://localhost:8080/"
    },
    "id": "qfoJ4b8puQaR",
    "outputId": "d909e272-9175-4fda-e838-14996920f5fc"
   },
   "outputs": [
    {
     "data": {
      "text/plain": [
       "{'max_depth': 4, 'max_leaf_nodes': 6, 'min_samples_split': 2}"
      ]
     },
     "execution_count": 72,
     "metadata": {
      "tags": []
     },
     "output_type": "execute_result"
    }
   ],
   "source": [
    "best_parameters"
   ]
  },
  {
   "cell_type": "markdown",
   "metadata": {
    "id": "vxoFQsEkuQaR"
   },
   "source": [
    "#### Prediction Results"
   ]
  },
  {
   "cell_type": "code",
   "execution_count": 73,
   "metadata": {
    "id": "MEBk7Uz5uQaR"
   },
   "outputs": [],
   "source": [
    "ds_model = DecisionTreeClassifier(\n",
    "  max_depth = best_parameters['max_depth'], \n",
    "  max_leaf_nodes = best_parameters['max_leaf_nodes'], \n",
    "  min_samples_split = best_parameters['min_samples_split'], \n",
    "  random_state=42)\n",
    "ds_model.fit(X_train_ud,y_train_ud)\n",
    "prediction=ds_model.predict(X_test_pca)"
   ]
  },
  {
   "cell_type": "code",
   "execution_count": 74,
   "metadata": {
    "id": "_qCPNC_YuQaS"
   },
   "outputs": [],
   "source": [
    "ds_pred2 = prediction"
   ]
  },
  {
   "cell_type": "code",
   "execution_count": 75,
   "metadata": {
    "colab": {
     "base_uri": "https://localhost:8080/"
    },
    "id": "rVp-aGyhuQaS",
    "outputId": "f6516748-c5f3-4248-94fb-4bcffbbfd6e3"
   },
   "outputs": [
    {
     "name": "stdout",
     "output_type": "stream",
     "text": [
      "Sensitivity 0.031\n",
      "Specificity  1.0\n",
      "False positive rate 0.0\n",
      "False negative rate 0.969\n",
      "Overall accuracy 0.562\n"
     ]
    }
   ],
   "source": [
    "ds_table = confusion_matrix(prediction, y_test)\n",
    "ds_table3 = resultsummary(ds_table)\n",
    "ds_table4 = classification_report(y_test,\n",
    "                                  prediction, \n",
    "                                  output_dict=True)\n",
    "ds_table4 = pd.DataFrame(ds_table4).transpose()\n",
    "ds_prob2 = ds_model.predict_proba(X_test_pca)[:,1]"
   ]
  },
  {
   "cell_type": "markdown",
   "metadata": {
    "id": "AQevF8rRuQaS"
   },
   "source": [
    "#### 2.5 Random Forest"
   ]
  },
  {
   "cell_type": "code",
   "execution_count": 76,
   "metadata": {
    "colab": {
     "base_uri": "https://localhost:8080/"
    },
    "id": "vlNVhEF9uQaT",
    "outputId": "41693c12-4ac0-4e32-bd34-1a7c79adb45f"
   },
   "outputs": [
    {
     "data": {
      "text/plain": [
       "RandomForestClassifier(bootstrap=True, ccp_alpha=0.0, class_weight=None,\n",
       "                       criterion='gini', max_depth=None, max_features=0.65,\n",
       "                       max_leaf_nodes=None, max_samples=None,\n",
       "                       min_impurity_decrease=0.0, min_impurity_split=None,\n",
       "                       min_samples_leaf=8, min_samples_split=5,\n",
       "                       min_weight_fraction_leaf=0.0, n_estimators=100,\n",
       "                       n_jobs=None, oob_score=False, random_state=None,\n",
       "                       verbose=0, warm_start=False)"
      ]
     },
     "execution_count": 76,
     "metadata": {
      "tags": []
     },
     "output_type": "execute_result"
    }
   ],
   "source": [
    "# Hyperparameters search grid \n",
    "rf_param_grid = {'bootstrap': [False, True],\n",
    "  'n_estimators': [60, 70, 80, 90, 100],\n",
    "  'max_features': [0.6, 0.65, 0.7, 0.75, 0.8],\n",
    "  'min_samples_leaf': [8, 10, 12, 14],\n",
    "  'min_samples_split': [3, 5, 7]\n",
    "}\n",
    "\n",
    "# Create the GridSearchCV object\n",
    "rf_search = GridSearchCV(\n",
    "  estimator=RandomForestClassifier(), \n",
    "  param_grid=rf_param_grid, \n",
    "  cv=3, \n",
    "  scoring='accuracy')\n",
    "rf_search.fit(X_train_ud, y_train_ud)\n",
    "\n",
    "#to get best score\n",
    "best_accuracy = rf_search.best_score_\n",
    "#to get best parameters\n",
    "best_parameters = rf_search.best_params_ \n",
    "# select best svc\n",
    "best_rf = rf_search.best_estimator_\n",
    "best_rf"
   ]
  },
  {
   "cell_type": "code",
   "execution_count": 77,
   "metadata": {
    "colab": {
     "base_uri": "https://localhost:8080/"
    },
    "id": "s9NewlXOuQaT",
    "outputId": "1841a8ca-535f-417a-ff72-8255740e7429"
   },
   "outputs": [
    {
     "data": {
      "text/plain": [
       "{'bootstrap': True,\n",
       " 'max_features': 0.65,\n",
       " 'min_samples_leaf': 8,\n",
       " 'min_samples_split': 5,\n",
       " 'n_estimators': 100}"
      ]
     },
     "execution_count": 77,
     "metadata": {
      "tags": []
     },
     "output_type": "execute_result"
    }
   ],
   "source": [
    "best_parameters"
   ]
  },
  {
   "cell_type": "markdown",
   "metadata": {
    "id": "xooDDrFeuQaT"
   },
   "source": [
    "#### Prediction Results"
   ]
  },
  {
   "cell_type": "code",
   "execution_count": 78,
   "metadata": {
    "id": "8_esOD5puQaT"
   },
   "outputs": [],
   "source": [
    "rf_model = RandomForestClassifier(\n",
    "  bootstrap = best_parameters['bootstrap'], \n",
    "  max_features = best_parameters['max_features'], \n",
    "  min_samples_leaf = best_parameters['min_samples_leaf'],\n",
    "  min_samples_split = best_parameters['min_samples_split'], \n",
    "  n_estimators = best_parameters['n_estimators'])\n",
    "rf_model.fit(X_train_ud,y_train_ud)\n",
    "prediction = rf_model.predict(X_test_pca)"
   ]
  },
  {
   "cell_type": "code",
   "execution_count": 79,
   "metadata": {
    "id": "veQ9Xg3OuQaU"
   },
   "outputs": [],
   "source": [
    "rf_pred2 = prediction"
   ]
  },
  {
   "cell_type": "code",
   "execution_count": 80,
   "metadata": {
    "colab": {
     "base_uri": "https://localhost:8080/"
    },
    "id": "v5ioNFLauQaU",
    "outputId": "c7590f5b-9c61-49a1-b0ac-8a5b6893da17"
   },
   "outputs": [
    {
     "name": "stdout",
     "output_type": "stream",
     "text": [
      "Sensitivity 0.026\n",
      "Specificity  0.996\n",
      "False positive rate 0.004\n",
      "False negative rate 0.974\n",
      "Overall accuracy 0.562\n"
     ]
    }
   ],
   "source": [
    "rf_table = confusion_matrix(prediction, y_test)\n",
    "rf_table3 = resultsummary(rf_table)\n",
    "rf_table4 = classification_report(y_test,\n",
    "                                  prediction, \n",
    "                                  output_dict=True)\n",
    "rf_table4 = pd.DataFrame(rf_table4).transpose()\n",
    "rf_prob2 = rf_model.predict_proba(X_test_pca)[:,1]"
   ]
  },
  {
   "cell_type": "markdown",
   "metadata": {
    "id": "Eawo5LpduQaV"
   },
   "source": [
    "#### 2.7 Naive Bayes"
   ]
  },
  {
   "cell_type": "code",
   "execution_count": 81,
   "metadata": {
    "id": "wSSlMzHXuQaW"
   },
   "outputs": [],
   "source": [
    "nb_model = GaussianNB()\n",
    "nb_model.fit(X_train_ud,y_train_ud)\n",
    "prediction=nb_model.predict(X_test_pca)"
   ]
  },
  {
   "cell_type": "code",
   "execution_count": 82,
   "metadata": {
    "id": "Vkx16e5auQaW"
   },
   "outputs": [],
   "source": [
    "nb_pred2 = prediction"
   ]
  },
  {
   "cell_type": "markdown",
   "metadata": {
    "id": "RKjCeoHXuQaW"
   },
   "source": [
    "#### Prediction Results"
   ]
  },
  {
   "cell_type": "code",
   "execution_count": 83,
   "metadata": {
    "colab": {
     "base_uri": "https://localhost:8080/"
    },
    "id": "BnGMXykAuQaW",
    "outputId": "04d86a05-a55c-40e3-9b0f-30730096103a"
   },
   "outputs": [
    {
     "name": "stdout",
     "output_type": "stream",
     "text": [
      "Sensitivity 0.024\n",
      "Specificity  0.992\n",
      "False positive rate 0.008\n",
      "False negative rate 0.976\n",
      "Overall accuracy 0.607\n"
     ]
    }
   ],
   "source": [
    "nb_table = confusion_matrix(prediction, y_test)\n",
    "nb_table3 = resultsummary(nb_table)\n",
    "nb_table4 = classification_report(y_test,\n",
    "                                  prediction, \n",
    "                                  output_dict=True)\n",
    "nb_table4 = pd.DataFrame(nb_table4).transpose()\n",
    "nb_prob2 = nb_model.predict_proba(X_test_pca)[:,1]"
   ]
  },
  {
   "cell_type": "markdown",
   "metadata": {
    "id": "N-LZJuDUuQaX"
   },
   "source": [
    "# ResultsSummary"
   ]
  },
  {
   "cell_type": "markdown",
   "metadata": {},
   "source": [
    "<br>"
   ]
  },
  {
   "cell_type": "code",
   "execution_count": 84,
   "metadata": {
    "id": "c8veXA81uQaX"
   },
   "outputs": [],
   "source": [
    "def plotsummary(prediction, names, prob):\n",
    "    plt.figure(figsize=(12,10))\n",
    "    plt.subplot(221)\n",
    "    sns.heatmap(confusion_matrix(y_test, \n",
    "                                 prediction),\n",
    "                annot=True, cmap=plt.cm.Blues ,fmt = \"d\", linecolor=\"k\",linewidths=3)\n",
    "    titles = \"Confusion Matrix of \" + names\n",
    "    plt.title(titles,fontsize=20)\n",
    "\n",
    "    fpr,tpr,thresholds = roc_curve(y_test, prob)\n",
    "    aucvalue = auc(fpr,tpr)\n",
    "    plt.subplot(222)\n",
    "    plt.plot(fpr,tpr,label = (\"Area_under the curve :\",aucvalue),color = \"r\")\n",
    "    plt.plot([1,0],[1,0],linestyle = \"dashed\",color =\"k\")\n",
    "    plt.legend(loc = \"best\")\n",
    "    plt.xlabel('False Positive Rate')\n",
    "    plt.ylabel('True Positive Rate')\n",
    "    titles = \"ROC of \" + names\n",
    "    plt.title(titles,fontsize=20)\n",
    "    \n",
    "    return(aucvalue)"
   ]
  },
  {
   "cell_type": "code",
   "execution_count": 85,
   "metadata": {
    "id": "ckrhnGQxAhBB"
   },
   "outputs": [],
   "source": [
    "import seaborn as sns"
   ]
  },
  {
   "cell_type": "markdown",
   "metadata": {},
   "source": [
    "### Oversampling "
   ]
  },
  {
   "cell_type": "code",
   "execution_count": 86,
   "metadata": {
    "colab": {
     "base_uri": "https://localhost:8080/",
     "height": 330
    },
    "id": "-EranTBKuQaX",
    "outputId": "3a9dac07-6685-49ee-811d-a2e1f4fd8228",
    "scrolled": true
   },
   "outputs": [
    {
     "data": {
      "image/png": "[encoded data removed]",
      "text/plain": [
       "<Figure size 864x720 with 3 Axes>"
      ]
     },
     "metadata": {
      "needs_background": "light",
      "tags": []
     },
     "output_type": "display_data"
    }
   ],
   "source": [
    "svm1 = plotsummary(svm_pred, 'SVM', svm_prob)"
   ]
  },
  {
   "cell_type": "code",
   "execution_count": 87,
   "metadata": {
    "colab": {
     "base_uri": "https://localhost:8080/",
     "height": 330
    },
    "id": "9e4WNbo7uQaX",
    "outputId": "b908d8e3-f39a-4c1c-f658-ab65ef3e0461"
   },
   "outputs": [
    {
     "data": {
      "image/png": "[encoded data removed]",
      "text/plain": [
       "<Figure size 864x720 with 3 Axes>"
      ]
     },
     "metadata": {
      "needs_background": "light",
      "tags": []
     },
     "output_type": "display_data"
    }
   ],
   "source": [
    "knn1 = plotsummary(knn_pred, 'KNN', knn_prob)"
   ]
  },
  {
   "cell_type": "code",
   "execution_count": 88,
   "metadata": {
    "colab": {
     "base_uri": "https://localhost:8080/",
     "height": 330
    },
    "id": "l5t-yP8gwOGK",
    "outputId": "c72e497d-3bae-4ef7-8751-641234d00b51"
   },
   "outputs": [
    {
     "data": {
      "image/png": "[encoded data removed]",
      "text/plain": [
       "<Figure size 864x720 with 3 Axes>"
      ]
     },
     "metadata": {
      "needs_background": "light",
      "tags": []
     },
     "output_type": "display_data"
    }
   ],
   "source": [
    "lr1 = plotsummary(lr_pred, 'Logistic Regresion', lr_prob)"
   ]
  },
  {
   "cell_type": "code",
   "execution_count": 89,
   "metadata": {
    "colab": {
     "base_uri": "https://localhost:8080/",
     "height": 330
    },
    "id": "94M-96-OwOTd",
    "outputId": "427c4a85-b0e6-42d1-f96b-3b67df4f2c6d"
   },
   "outputs": [
    {
     "data": {
      "image/png": "[encoded data removed]",
      "text/plain": [
       "<Figure size 864x720 with 3 Axes>"
      ]
     },
     "metadata": {
      "needs_background": "light",
      "tags": []
     },
     "output_type": "display_data"
    }
   ],
   "source": [
    "ds1 = plotsummary(ds_pred, 'Decression Tree', ds_prob)"
   ]
  },
  {
   "cell_type": "code",
   "execution_count": 90,
   "metadata": {
    "colab": {
     "base_uri": "https://localhost:8080/",
     "height": 330
    },
    "id": "7nYY3dUzwObg",
    "outputId": "48c16878-1646-44b7-bd57-505fb120540f"
   },
   "outputs": [
    {
     "data": {
      "image/png": "[encoded data removed]",
      "text/plain": [
       "<Figure size 864x720 with 3 Axes>"
      ]
     },
     "metadata": {
      "needs_background": "light",
      "tags": []
     },
     "output_type": "display_data"
    }
   ],
   "source": [
    "rf1 = plotsummary(rf_pred, 'Random Forest', rf_prob)"
   ]
  },
  {
   "cell_type": "code",
   "execution_count": 92,
   "metadata": {
    "colab": {
     "base_uri": "https://localhost:8080/",
     "height": 330
    },
    "id": "eRM_QjycwjeW",
    "outputId": "d49424f2-d873-4b69-b332-87a4aa360446",
    "scrolled": false
   },
   "outputs": [
    {
     "data": {
      "image/png": "[encoded data removed]",
      "text/plain": [
       "<Figure size 864x720 with 3 Axes>"
      ]
     },
     "metadata": {
      "needs_background": "light",
      "tags": []
     },
     "output_type": "display_data"
    }
   ],
   "source": [
    "nb1 = plotsummary(nb_pred, 'Naive Bayes', svm_prob)"
   ]
  },
  {
   "cell_type": "markdown",
   "metadata": {},
   "source": [
    "### UnderSampling"
   ]
  },
  {
   "cell_type": "code",
   "execution_count": 93,
   "metadata": {
    "colab": {
     "base_uri": "https://localhost:8080/",
     "height": 330
    },
    "id": "uyGu4iJIwjy8",
    "outputId": "3910cf95-d069-42aa-b469-1d82cd5fbb3c"
   },
   "outputs": [
    {
     "data": {
      "image/png": "[encoded data removed]",
      "text/plain": [
       "<Figure size 864x720 with 3 Axes>"
      ]
     },
     "metadata": {
      "needs_background": "light",
      "tags": []
     },
     "output_type": "display_data"
    }
   ],
   "source": [
    "svm2 = plotsummary(svm_pred2, 'SVM', svm_prob2)"
   ]
  },
  {
   "cell_type": "code",
   "execution_count": 94,
   "metadata": {
    "colab": {
     "base_uri": "https://localhost:8080/",
     "height": 330
    },
    "id": "wfpD6pWN_1Jt",
    "outputId": "1f4143cd-a088-4837-c4c9-910c2962c2b4"
   },
   "outputs": [
    {
     "data": {
      "image/png": "[encoded data removed]",
      "text/plain": [
       "<Figure size 864x720 with 3 Axes>"
      ]
     },
     "metadata": {
      "needs_background": "light",
      "tags": []
     },
     "output_type": "display_data"
    }
   ],
   "source": [
    "knn2 = plotsummary(knn_pred2, 'KNN', knn_prob2)"
   ]
  },
  {
   "cell_type": "code",
   "execution_count": 95,
   "metadata": {
    "colab": {
     "base_uri": "https://localhost:8080/",
     "height": 330
    },
    "id": "xvOVdCZi_1ZH",
    "outputId": "b7accd61-a1e0-4c18-c7cf-262073476413"
   },
   "outputs": [
    {
     "data": {
      "image/png": "[encoded data removed]",
      "text/plain": [
       "<Figure size 864x720 with 3 Axes>"
      ]
     },
     "metadata": {
      "needs_background": "light",
      "tags": []
     },
     "output_type": "display_data"
    }
   ],
   "source": [
    "lr2 = plotsummary(lr_pred2, 'Logistic Regresion', lr_prob2)"
   ]
  },
  {
   "cell_type": "code",
   "execution_count": 96,
   "metadata": {
    "colab": {
     "base_uri": "https://localhost:8080/",
     "height": 330
    },
    "id": "JTqQ8SiK_1cl",
    "outputId": "2114d33d-2f9b-47b3-be22-e9d519beb906"
   },
   "outputs": [
    {
     "data": {
      "image/png": "[encoded data removed]",
      "text/plain": [
       "<Figure size 864x720 with 3 Axes>"
      ]
     },
     "metadata": {
      "needs_background": "light",
      "tags": []
     },
     "output_type": "display_data"
    }
   ],
   "source": [
    "ds2 = plotsummary(ds_pred2, 'Decression Tree', ds_prob2)"
   ]
  },
  {
   "cell_type": "code",
   "execution_count": 97,
   "metadata": {
    "colab": {
     "base_uri": "https://localhost:8080/",
     "height": 330
    },
    "id": "2w3Syo3U_1fr",
    "outputId": "30af135c-ed4b-4b9d-d74a-1ea767e3ec9b"
   },
   "outputs": [
    {
     "data": {
      "image/png": "[encoded data removed]",
      "text/plain": [
       "<Figure size 864x720 with 3 Axes>"
      ]
     },
     "metadata": {
      "needs_background": "light",
      "tags": []
     },
     "output_type": "display_data"
    }
   ],
   "source": [
    "rf2 = plotsummary(rf_pred2, 'Random Forest', rf_prob2)"
   ]
  },
  {
   "cell_type": "code",
   "execution_count": 98,
   "metadata": {
    "colab": {
     "base_uri": "https://localhost:8080/",
     "height": 330
    },
    "id": "4SXb8Ksf_1iT",
    "outputId": "562c7920-2d3b-46d7-e0b7-2e4155d0e3fd"
   },
   "outputs": [
    {
     "data": {
      "image/png": "[encoded data removed]",
      "text/plain": [
       "<Figure size 864x720 with 3 Axes>"
      ]
     },
     "metadata": {
      "needs_background": "light",
      "tags": []
     },
     "output_type": "display_data"
    }
   ],
   "source": [
    "nb2 = plotsummary(nb_pred2, 'Naive Bayes', nb_prob2)"
   ]
  },
  {
   "cell_type": "markdown",
   "metadata": {
    "id": "HzQjsa5H_1se"
   },
   "source": [
    "## Results Tables"
   ]
  },
  {
   "cell_type": "markdown",
   "metadata": {},
   "source": [
    "### Oversampling"
   ]
  },
  {
   "cell_type": "code",
   "execution_count": 99,
   "metadata": {
    "id": "fVPiQD3ZBT7Z"
   },
   "outputs": [],
   "source": [
    "table1 = pd.DataFrame([svm_table1,knn_table1,lr_table1,ds_table1,rf_table1,nb_table1])\n",
    "table1.columns = ['Sensitivity',\n",
    "               'Specificity', \n",
    "               'False positive rate',\n",
    "               'False negative rate', \n",
    "               'False Discovery rate',\n",
    "               'Overall accuracy']\n",
    "table1['Method'] = ['SVM','KNN','Logistic Regression',\n",
    "                   'Decision Tree','Random Forest',\n",
    "                  'Naive Bayes']\n",
    "table1['ROC'] = [svm1, knn1, lr1, ds1, rf1, nb1]\n",
    "table1 = table1[['Method', 'Sensitivity',\n",
    "               'Specificity', \n",
    "               'False positive rate',\n",
    "               'False negative rate', \n",
    "               'False Discovery rate',\n",
    "               'Overall accuracy','ROC']]"
   ]
  },
  {
   "cell_type": "code",
   "execution_count": 101,
   "metadata": {
    "colab": {
     "base_uri": "https://localhost:8080/",
     "height": 235
    },
    "id": "P7KsMjbFElLz",
    "outputId": "b827a2ab-b115-4377-c988-9cc6bbef71b1"
   },
   "outputs": [
    {
     "data": {
      "text/html": [
       "<div>\n",
       "<style scoped>\n",
       "    .dataframe tbody tr th:only-of-type {\n",
       "        vertical-align: middle;\n",
       "    }\n",
       "\n",
       "    .dataframe tbody tr th {\n",
       "        vertical-align: top;\n",
       "    }\n",
       "\n",
       "    .dataframe thead th {\n",
       "        text-align: right;\n",
       "    }\n",
       "</style>\n",
       "<table border=\"1\" class=\"dataframe\">\n",
       "  <thead>\n",
       "    <tr style=\"text-align: right;\">\n",
       "      <th></th>\n",
       "      <th>Method</th>\n",
       "      <th>Sensitivity</th>\n",
       "      <th>Specificity</th>\n",
       "      <th>False positive rate</th>\n",
       "      <th>False negative rate</th>\n",
       "      <th>False Discovery rate</th>\n",
       "      <th>Overall accuracy</th>\n",
       "      <th>ROC</th>\n",
       "    </tr>\n",
       "  </thead>\n",
       "  <tbody>\n",
       "    <tr>\n",
       "      <th>0</th>\n",
       "      <td>SVM</td>\n",
       "      <td>0.227273</td>\n",
       "      <td>0.991607</td>\n",
       "      <td>0.008393</td>\n",
       "      <td>0.772727</td>\n",
       "      <td>0.583333</td>\n",
       "      <td>0.971963</td>\n",
       "      <td>0.705667</td>\n",
       "    </tr>\n",
       "    <tr>\n",
       "      <th>1</th>\n",
       "      <td>KNN</td>\n",
       "      <td>0.172414</td>\n",
       "      <td>0.991536</td>\n",
       "      <td>0.008464</td>\n",
       "      <td>0.827586</td>\n",
       "      <td>0.583333</td>\n",
       "      <td>0.963785</td>\n",
       "      <td>0.694115</td>\n",
       "    </tr>\n",
       "    <tr>\n",
       "      <th>2</th>\n",
       "      <td>Logistic Regression</td>\n",
       "      <td>0.028037</td>\n",
       "      <td>0.994393</td>\n",
       "      <td>0.005607</td>\n",
       "      <td>0.971963</td>\n",
       "      <td>0.250000</td>\n",
       "      <td>0.632009</td>\n",
       "      <td>0.746840</td>\n",
       "    </tr>\n",
       "    <tr>\n",
       "      <th>3</th>\n",
       "      <td>Decision Tree</td>\n",
       "      <td>0.045714</td>\n",
       "      <td>0.994126</td>\n",
       "      <td>0.005874</td>\n",
       "      <td>0.954286</td>\n",
       "      <td>0.333333</td>\n",
       "      <td>0.800234</td>\n",
       "      <td>0.743730</td>\n",
       "    </tr>\n",
       "    <tr>\n",
       "      <th>4</th>\n",
       "      <td>Random Forest</td>\n",
       "      <td>0.100000</td>\n",
       "      <td>0.991315</td>\n",
       "      <td>0.008685</td>\n",
       "      <td>0.900000</td>\n",
       "      <td>0.583333</td>\n",
       "      <td>0.939252</td>\n",
       "      <td>0.834321</td>\n",
       "    </tr>\n",
       "    <tr>\n",
       "      <th>5</th>\n",
       "      <td>Naive Bayes</td>\n",
       "      <td>0.024194</td>\n",
       "      <td>0.993802</td>\n",
       "      <td>0.006198</td>\n",
       "      <td>0.975806</td>\n",
       "      <td>0.250000</td>\n",
       "      <td>0.572430</td>\n",
       "      <td>0.705667</td>\n",
       "    </tr>\n",
       "  </tbody>\n",
       "</table>\n",
       "</div>"
      ],
      "text/plain": [
       "                Method  Sensitivity  ...  Overall accuracy       ROC\n",
       "0                  SVM     0.227273  ...          0.971963  0.705667\n",
       "1                  KNN     0.172414  ...          0.963785  0.694115\n",
       "2  Logistic Regression     0.028037  ...          0.632009  0.746840\n",
       "3        Decision Tree     0.045714  ...          0.800234  0.743730\n",
       "4        Random Forest     0.100000  ...          0.939252  0.834321\n",
       "5          Naive Bayes     0.024194  ...          0.572430  0.705667\n",
       "\n",
       "[6 rows x 8 columns]"
      ]
     },
     "execution_count": 101,
     "metadata": {
      "tags": []
     },
     "output_type": "execute_result"
    }
   ],
   "source": [
    "table1"
   ]
  },
  {
   "cell_type": "markdown",
   "metadata": {},
   "source": [
    "### Undersampling"
   ]
  },
  {
   "cell_type": "code",
   "execution_count": 102,
   "metadata": {
    "id": "pAi_q2wdEyd8"
   },
   "outputs": [],
   "source": [
    "table3 = pd.DataFrame([svm_table3,knn_table3,lr_table3,ds_table3,rf_table3,nb_table3])\n",
    "table3.columns = ['Sensitivity',\n",
    "                  'Specificity', \n",
    "                  'False positive rate',\n",
    "                  'False negative rate', \n",
    "                  'False Discovery rate',\n",
    "                  'Overall accuracy']\n",
    "table3['Method'] = ['SVM','KNN','Logistic Regression',\n",
    "                    'Decision Tree','Random Forest',\n",
    "                    'Naive Bayes']\n",
    "table3['ROC'] = [svm2, knn2, lr2, ds2, rf2, nb2]\n",
    "table3 = table3[['Method', 'Sensitivity',\n",
    "                 'Specificity', \n",
    "                 'False positive rate',\n",
    "                 'False negative rate', \n",
    "                 'False Discovery rate',\n",
    "                 'Overall accuracy','ROC']]"
   ]
  },
  {
   "cell_type": "code",
   "execution_count": 104,
   "metadata": {
    "colab": {
     "base_uri": "https://localhost:8080/",
     "height": 235
    },
    "id": "lvF6n43DEm96",
    "outputId": "97b4c286-c120-427b-d097-eaa4cb29e6de"
   },
   "outputs": [
    {
     "data": {
      "text/html": [
       "<div>\n",
       "<style scoped>\n",
       "    .dataframe tbody tr th:only-of-type {\n",
       "        vertical-align: middle;\n",
       "    }\n",
       "\n",
       "    .dataframe tbody tr th {\n",
       "        vertical-align: top;\n",
       "    }\n",
       "\n",
       "    .dataframe thead th {\n",
       "        text-align: right;\n",
       "    }\n",
       "</style>\n",
       "<table border=\"1\" class=\"dataframe\">\n",
       "  <thead>\n",
       "    <tr style=\"text-align: right;\">\n",
       "      <th></th>\n",
       "      <th>Method</th>\n",
       "      <th>Sensitivity</th>\n",
       "      <th>Specificity</th>\n",
       "      <th>False positive rate</th>\n",
       "      <th>False negative rate</th>\n",
       "      <th>False Discovery rate</th>\n",
       "      <th>Overall accuracy</th>\n",
       "      <th>ROC</th>\n",
       "    </tr>\n",
       "  </thead>\n",
       "  <tbody>\n",
       "    <tr>\n",
       "      <th>0</th>\n",
       "      <td>SVM</td>\n",
       "      <td>0.032520</td>\n",
       "      <td>1.000000</td>\n",
       "      <td>0.000000</td>\n",
       "      <td>0.967480</td>\n",
       "      <td>0.000000</td>\n",
       "      <td>0.582944</td>\n",
       "      <td>0.828495</td>\n",
       "    </tr>\n",
       "    <tr>\n",
       "      <th>1</th>\n",
       "      <td>KNN</td>\n",
       "      <td>0.043636</td>\n",
       "      <td>1.000000</td>\n",
       "      <td>0.000000</td>\n",
       "      <td>0.956364</td>\n",
       "      <td>0.000000</td>\n",
       "      <td>0.692757</td>\n",
       "      <td>0.863349</td>\n",
       "    </tr>\n",
       "    <tr>\n",
       "      <th>2</th>\n",
       "      <td>Logistic Regression</td>\n",
       "      <td>0.023499</td>\n",
       "      <td>0.993658</td>\n",
       "      <td>0.006342</td>\n",
       "      <td>0.976501</td>\n",
       "      <td>0.250000</td>\n",
       "      <td>0.559579</td>\n",
       "      <td>0.735288</td>\n",
       "    </tr>\n",
       "    <tr>\n",
       "      <th>3</th>\n",
       "      <td>Decision Tree</td>\n",
       "      <td>0.031008</td>\n",
       "      <td>1.000000</td>\n",
       "      <td>0.000000</td>\n",
       "      <td>0.968992</td>\n",
       "      <td>0.000000</td>\n",
       "      <td>0.561916</td>\n",
       "      <td>0.829532</td>\n",
       "    </tr>\n",
       "    <tr>\n",
       "      <th>4</th>\n",
       "      <td>Random Forest</td>\n",
       "      <td>0.026110</td>\n",
       "      <td>0.995772</td>\n",
       "      <td>0.004228</td>\n",
       "      <td>0.973890</td>\n",
       "      <td>0.166667</td>\n",
       "      <td>0.561916</td>\n",
       "      <td>0.743237</td>\n",
       "    </tr>\n",
       "    <tr>\n",
       "      <th>5</th>\n",
       "      <td>Naive Bayes</td>\n",
       "      <td>0.023529</td>\n",
       "      <td>0.992248</td>\n",
       "      <td>0.007752</td>\n",
       "      <td>0.976471</td>\n",
       "      <td>0.333333</td>\n",
       "      <td>0.607477</td>\n",
       "      <td>0.720577</td>\n",
       "    </tr>\n",
       "  </tbody>\n",
       "</table>\n",
       "</div>"
      ],
      "text/plain": [
       "                Method  Sensitivity  ...  Overall accuracy       ROC\n",
       "0                  SVM     0.032520  ...          0.582944  0.828495\n",
       "1                  KNN     0.043636  ...          0.692757  0.863349\n",
       "2  Logistic Regression     0.023499  ...          0.559579  0.735288\n",
       "3        Decision Tree     0.031008  ...          0.561916  0.829532\n",
       "4        Random Forest     0.026110  ...          0.561916  0.743237\n",
       "5          Naive Bayes     0.023529  ...          0.607477  0.720577\n",
       "\n",
       "[6 rows x 8 columns]"
      ]
     },
     "execution_count": 104,
     "metadata": {
      "tags": []
     },
     "output_type": "execute_result"
    }
   ],
   "source": [
    "table3 "
   ]
  },
  {
   "cell_type": "markdown",
   "metadata": {},
   "source": [
    "### OverSampling-Inactive"
   ]
  },
  {
   "cell_type": "code",
   "execution_count": 105,
   "metadata": {
    "id": "osHPzXeWBUHg"
   },
   "outputs": [],
   "source": [
    "table11 = pd.concat([svm_table2.iloc[0:1,[0,2]], knn_table2.iloc[0:1,[0,2]], \n",
    "           lr_table2.iloc[0:1,[0,2]],\n",
    "           ds_table2.iloc[0:1,[0,2]],\n",
    "           rf_table2.iloc[0:1,[0,2]],\n",
    "           nb_table2.iloc[0:1,[0,2]]], axis=0)\n",
    "table11.reset_index(drop = True)\n",
    "table11['Method'] = ['SVM','KNN','Logistic Regression',\n",
    "                   'Decision Tree','Random Forest',\n",
    "                  'Naive Bayes']\n",
    "table11 = table11[['Method', \"precision\",'f1-score']]                "
   ]
  },
  {
   "cell_type": "markdown",
   "metadata": {},
   "source": [
    "### OverSampling-Active"
   ]
  },
  {
   "cell_type": "code",
   "execution_count": 106,
   "metadata": {
    "id": "4bGu1Z95BUK5"
   },
   "outputs": [],
   "source": [
    "table12 = pd.concat([svm_table2.iloc[1:2,[0,2]], knn_table2.iloc[1:2,[0,2]], \n",
    "           lr_table2.iloc[1:2,[0,2]],\n",
    "           ds_table2.iloc[1:2,[0,2]],\n",
    "           rf_table2.iloc[1:2,[0,2]],\n",
    "           nb_table2.iloc[1:2,[0,2]]], axis=0)\n",
    "table12.reset_index(drop = True)\n",
    "table12['Method'] = ['SVM','KNN','Logistic Regression',\n",
    "                   'Decision Tree','Random Forest',\n",
    "                  'Naive Bayes']\n",
    "table12 = table12[['Method', \"precision\",'f1-score']]     "
   ]
  },
  {
   "cell_type": "markdown",
   "metadata": {},
   "source": [
    "### UnderSampling-Inactive"
   ]
  },
  {
   "cell_type": "code",
   "execution_count": 107,
   "metadata": {
    "id": "UuDl8OVCBUNx"
   },
   "outputs": [],
   "source": [
    "table21 = pd.concat([svm_table4.iloc[0:1,[0,2]], knn_table4.iloc[0:1,[0,2]], \n",
    "                     lr_table4.iloc[0:1,[0,2]],\n",
    "                     ds_table4.iloc[0:1,[0,2]],\n",
    "                     rf_table4.iloc[0:1,[0,2]],\n",
    "                     nb_table4.iloc[0:1,[0,2]]], axis=0)\n",
    "table21.reset_index(drop = True)\n",
    "table21['Method'] = ['SVM','KNN','Logistic Regression',\n",
    "                     'Decision Tree','Random Forest',\n",
    "                     'Naive Bayes']\n",
    "table21 = table21[['Method', \"precision\",'f1-score']]      "
   ]
  },
  {
   "cell_type": "markdown",
   "metadata": {},
   "source": [
    "### UnderSampling-Active"
   ]
  },
  {
   "cell_type": "code",
   "execution_count": 108,
   "metadata": {
    "id": "DQCaLs_TBUQu"
   },
   "outputs": [],
   "source": [
    "table22 = pd.concat([svm_table4.iloc[1:2,[0,2]], knn_table4.iloc[1:2,[0,2]], \n",
    "                     lr_table4.iloc[1:2,[0,2]],\n",
    "                     ds_table4.iloc[1:2,[0,2]],\n",
    "                     rf_table4.iloc[1:2,[0,2]],\n",
    "                     nb_table4.iloc[1:2,[0,2]]], axis=0)\n",
    "table22.reset_index(drop = True)\n",
    "table22['Method'] = ['SVM','KNN','Logistic Regression',\n",
    "                     'Decision Tree','Random Forest',\n",
    "                     'Naive Bayes']\n",
    "table22 = table22[['Method', \"precision\",'f1-score']] "
   ]
  },
  {
   "cell_type": "markdown",
   "metadata": {},
   "source": [
    "Oversampling - Inactive"
   ]
  },
  {
   "cell_type": "code",
   "execution_count": 109,
   "metadata": {
    "colab": {
     "base_uri": "https://localhost:8080/",
     "height": 235
    },
    "id": "2exisiwEEbQL",
    "outputId": "33e0112e-8db3-4233-89fb-7a7f04ca07c0",
    "scrolled": true
   },
   "outputs": [
    {
     "data": {
      "text/html": [
       "<div>\n",
       "<style scoped>\n",
       "    .dataframe tbody tr th:only-of-type {\n",
       "        vertical-align: middle;\n",
       "    }\n",
       "\n",
       "    .dataframe tbody tr th {\n",
       "        vertical-align: top;\n",
       "    }\n",
       "\n",
       "    .dataframe thead th {\n",
       "        text-align: right;\n",
       "    }\n",
       "</style>\n",
       "<table border=\"1\" class=\"dataframe\">\n",
       "  <thead>\n",
       "    <tr style=\"text-align: right;\">\n",
       "      <th></th>\n",
       "      <th>Method</th>\n",
       "      <th>precision</th>\n",
       "      <th>f1-score</th>\n",
       "    </tr>\n",
       "  </thead>\n",
       "  <tbody>\n",
       "    <tr>\n",
       "      <th>0</th>\n",
       "      <td>SVM</td>\n",
       "      <td>0.991607</td>\n",
       "      <td>0.985697</td>\n",
       "    </tr>\n",
       "    <tr>\n",
       "      <th>0</th>\n",
       "      <td>KNN</td>\n",
       "      <td>0.991536</td>\n",
       "      <td>0.981448</td>\n",
       "    </tr>\n",
       "    <tr>\n",
       "      <th>0</th>\n",
       "      <td>Logistic Regression</td>\n",
       "      <td>0.994393</td>\n",
       "      <td>0.771574</td>\n",
       "    </tr>\n",
       "    <tr>\n",
       "      <th>0</th>\n",
       "      <td>Decision Tree</td>\n",
       "      <td>0.994126</td>\n",
       "      <td>0.887869</td>\n",
       "    </tr>\n",
       "    <tr>\n",
       "      <th>0</th>\n",
       "      <td>Random Forest</td>\n",
       "      <td>0.991315</td>\n",
       "      <td>0.968485</td>\n",
       "    </tr>\n",
       "    <tr>\n",
       "      <th>0</th>\n",
       "      <td>Naive Bayes</td>\n",
       "      <td>0.993802</td>\n",
       "      <td>0.724398</td>\n",
       "    </tr>\n",
       "  </tbody>\n",
       "</table>\n",
       "</div>"
      ],
      "text/plain": [
       "                Method  precision  f1-score\n",
       "0                  SVM   0.991607  0.985697\n",
       "0                  KNN   0.991536  0.981448\n",
       "0  Logistic Regression   0.994393  0.771574\n",
       "0        Decision Tree   0.994126  0.887869\n",
       "0        Random Forest   0.991315  0.968485\n",
       "0          Naive Bayes   0.993802  0.724398"
      ]
     },
     "execution_count": 109,
     "metadata": {
      "tags": []
     },
     "output_type": "execute_result"
    }
   ],
   "source": [
    "table11"
   ]
  },
  {
   "cell_type": "markdown",
   "metadata": {},
   "source": [
    "Oversampling - Active"
   ]
  },
  {
   "cell_type": "code",
   "execution_count": 114,
   "metadata": {
    "colab": {
     "base_uri": "https://localhost:8080/",
     "height": 235
    },
    "id": "0cnQ5hLbEamD",
    "outputId": "721edfa0-2b8a-4f0b-cda9-357bab687db6"
   },
   "outputs": [
    {
     "data": {
      "text/html": [
       "<div>\n",
       "<style scoped>\n",
       "    .dataframe tbody tr th:only-of-type {\n",
       "        vertical-align: middle;\n",
       "    }\n",
       "\n",
       "    .dataframe tbody tr th {\n",
       "        vertical-align: top;\n",
       "    }\n",
       "\n",
       "    .dataframe thead th {\n",
       "        text-align: right;\n",
       "    }\n",
       "</style>\n",
       "<table border=\"1\" class=\"dataframe\">\n",
       "  <thead>\n",
       "    <tr style=\"text-align: right;\">\n",
       "      <th></th>\n",
       "      <th>Method</th>\n",
       "      <th>precision</th>\n",
       "      <th>f1-score</th>\n",
       "    </tr>\n",
       "  </thead>\n",
       "  <tbody>\n",
       "    <tr>\n",
       "      <th>1</th>\n",
       "      <td>SVM</td>\n",
       "      <td>0.227273</td>\n",
       "      <td>0.294118</td>\n",
       "    </tr>\n",
       "    <tr>\n",
       "      <th>1</th>\n",
       "      <td>KNN</td>\n",
       "      <td>0.172414</td>\n",
       "      <td>0.243902</td>\n",
       "    </tr>\n",
       "    <tr>\n",
       "      <th>1</th>\n",
       "      <td>Logistic Regression</td>\n",
       "      <td>0.028037</td>\n",
       "      <td>0.054054</td>\n",
       "    </tr>\n",
       "    <tr>\n",
       "      <th>1</th>\n",
       "      <td>Decision Tree</td>\n",
       "      <td>0.045714</td>\n",
       "      <td>0.085561</td>\n",
       "    </tr>\n",
       "    <tr>\n",
       "      <th>1</th>\n",
       "      <td>Random Forest</td>\n",
       "      <td>0.100000</td>\n",
       "      <td>0.161290</td>\n",
       "    </tr>\n",
       "    <tr>\n",
       "      <th>1</th>\n",
       "      <td>Naive Bayes</td>\n",
       "      <td>0.024194</td>\n",
       "      <td>0.046875</td>\n",
       "    </tr>\n",
       "  </tbody>\n",
       "</table>\n",
       "</div>"
      ],
      "text/plain": [
       "                Method  precision  f1-score\n",
       "1                  SVM   0.227273  0.294118\n",
       "1                  KNN   0.172414  0.243902\n",
       "1  Logistic Regression   0.028037  0.054054\n",
       "1        Decision Tree   0.045714  0.085561\n",
       "1        Random Forest   0.100000  0.161290\n",
       "1          Naive Bayes   0.024194  0.046875"
      ]
     },
     "execution_count": 114,
     "metadata": {
      "tags": []
     },
     "output_type": "execute_result"
    }
   ],
   "source": [
    "table12"
   ]
  },
  {
   "cell_type": "markdown",
   "metadata": {},
   "source": [
    "Undersampling - Inactive"
   ]
  },
  {
   "cell_type": "code",
   "execution_count": 115,
   "metadata": {
    "colab": {
     "base_uri": "https://localhost:8080/",
     "height": 235
    },
    "id": "VWhiHtAef1fW",
    "outputId": "ca6c6c30-65ef-4faa-ba0f-0360c65d9da8",
    "scrolled": true
   },
   "outputs": [
    {
     "data": {
      "text/html": [
       "<div>\n",
       "<style scoped>\n",
       "    .dataframe tbody tr th:only-of-type {\n",
       "        vertical-align: middle;\n",
       "    }\n",
       "\n",
       "    .dataframe tbody tr th {\n",
       "        vertical-align: top;\n",
       "    }\n",
       "\n",
       "    .dataframe thead th {\n",
       "        text-align: right;\n",
       "    }\n",
       "</style>\n",
       "<table border=\"1\" class=\"dataframe\">\n",
       "  <thead>\n",
       "    <tr style=\"text-align: right;\">\n",
       "      <th></th>\n",
       "      <th>Method</th>\n",
       "      <th>precision</th>\n",
       "      <th>f1-score</th>\n",
       "    </tr>\n",
       "  </thead>\n",
       "  <tbody>\n",
       "    <tr>\n",
       "      <th>0</th>\n",
       "      <td>SVM</td>\n",
       "      <td>1.000000</td>\n",
       "      <td>0.731781</td>\n",
       "    </tr>\n",
       "    <tr>\n",
       "      <th>0</th>\n",
       "      <td>KNN</td>\n",
       "      <td>1.000000</td>\n",
       "      <td>0.815439</td>\n",
       "    </tr>\n",
       "    <tr>\n",
       "      <th>0</th>\n",
       "      <td>Logistic Regression</td>\n",
       "      <td>0.993658</td>\n",
       "      <td>0.713743</td>\n",
       "    </tr>\n",
       "    <tr>\n",
       "      <th>0</th>\n",
       "      <td>Decision Tree</td>\n",
       "      <td>1.000000</td>\n",
       "      <td>0.714395</td>\n",
       "    </tr>\n",
       "    <tr>\n",
       "      <th>0</th>\n",
       "      <td>Random Forest</td>\n",
       "      <td>0.995772</td>\n",
       "      <td>0.715262</td>\n",
       "    </tr>\n",
       "    <tr>\n",
       "      <th>0</th>\n",
       "      <td>Naive Bayes</td>\n",
       "      <td>0.992248</td>\n",
       "      <td>0.752941</td>\n",
       "    </tr>\n",
       "  </tbody>\n",
       "</table>\n",
       "</div>"
      ],
      "text/plain": [
       "                Method  precision  f1-score\n",
       "0                  SVM   1.000000  0.731781\n",
       "0                  KNN   1.000000  0.815439\n",
       "0  Logistic Regression   0.993658  0.713743\n",
       "0        Decision Tree   1.000000  0.714395\n",
       "0        Random Forest   0.995772  0.715262\n",
       "0          Naive Bayes   0.992248  0.752941"
      ]
     },
     "execution_count": 115,
     "metadata": {
      "tags": []
     },
     "output_type": "execute_result"
    }
   ],
   "source": [
    "table21"
   ]
  },
  {
   "cell_type": "markdown",
   "metadata": {},
   "source": [
    "Undersampling - Active"
   ]
  },
  {
   "cell_type": "code",
   "execution_count": 116,
   "metadata": {
    "colab": {
     "base_uri": "https://localhost:8080/",
     "height": 235
    },
    "id": "d2ltyNpNf1jS",
    "outputId": "2917dd59-184c-42c4-c69f-f4f7932a507a",
    "scrolled": true
   },
   "outputs": [
    {
     "data": {
      "text/html": [
       "<div>\n",
       "<style scoped>\n",
       "    .dataframe tbody tr th:only-of-type {\n",
       "        vertical-align: middle;\n",
       "    }\n",
       "\n",
       "    .dataframe tbody tr th {\n",
       "        vertical-align: top;\n",
       "    }\n",
       "\n",
       "    .dataframe thead th {\n",
       "        text-align: right;\n",
       "    }\n",
       "</style>\n",
       "<table border=\"1\" class=\"dataframe\">\n",
       "  <thead>\n",
       "    <tr style=\"text-align: right;\">\n",
       "      <th></th>\n",
       "      <th>Method</th>\n",
       "      <th>precision</th>\n",
       "      <th>f1-score</th>\n",
       "    </tr>\n",
       "  </thead>\n",
       "  <tbody>\n",
       "    <tr>\n",
       "      <th>1</th>\n",
       "      <td>SVM</td>\n",
       "      <td>0.032520</td>\n",
       "      <td>0.062992</td>\n",
       "    </tr>\n",
       "    <tr>\n",
       "      <th>1</th>\n",
       "      <td>KNN</td>\n",
       "      <td>0.043636</td>\n",
       "      <td>0.083624</td>\n",
       "    </tr>\n",
       "    <tr>\n",
       "      <th>1</th>\n",
       "      <td>Logistic Regression</td>\n",
       "      <td>0.023499</td>\n",
       "      <td>0.045570</td>\n",
       "    </tr>\n",
       "    <tr>\n",
       "      <th>1</th>\n",
       "      <td>Decision Tree</td>\n",
       "      <td>0.031008</td>\n",
       "      <td>0.060150</td>\n",
       "    </tr>\n",
       "    <tr>\n",
       "      <th>1</th>\n",
       "      <td>Random Forest</td>\n",
       "      <td>0.026110</td>\n",
       "      <td>0.050633</td>\n",
       "    </tr>\n",
       "    <tr>\n",
       "      <th>1</th>\n",
       "      <td>Naive Bayes</td>\n",
       "      <td>0.023529</td>\n",
       "      <td>0.045455</td>\n",
       "    </tr>\n",
       "  </tbody>\n",
       "</table>\n",
       "</div>"
      ],
      "text/plain": [
       "                Method  precision  f1-score\n",
       "1                  SVM   0.032520  0.062992\n",
       "1                  KNN   0.043636  0.083624\n",
       "1  Logistic Regression   0.023499  0.045570\n",
       "1        Decision Tree   0.031008  0.060150\n",
       "1        Random Forest   0.026110  0.050633\n",
       "1          Naive Bayes   0.023529  0.045455"
      ]
     },
     "execution_count": 116,
     "metadata": {
      "tags": []
     },
     "output_type": "execute_result"
    }
   ],
   "source": [
    "table22"
   ]
  },
  {
   "cell_type": "code",
   "execution_count": null,
   "metadata": {
    "id": "DZIUFbk4uQaZ"
   },
   "outputs": [],
   "source": []
  }
 ],
 "metadata": {
  "colab": {
   "collapsed_sections": [
    "bpMsuUyruQZ6",
    "Sngsf3vcuQZ9",
    "dwFF7SRhuQZ9",
    "Hp8UJcmuuQZ_",
    "sZYh-Df5uQaD",
    "_3V9p78DuQaE",
    "vGGvv9RsuQaU",
    "nVU20Xg-uQaV"
   ],
   "name": "final5.ipynb",
   "provenance": []
  },
  "kernelspec": {
   "display_name": "Python 3",
   "language": "python",
   "name": "python3"
  },
  "language_info": {
   "codemirror_mode": {
    "name": "ipython",
    "version": 3
   },
   "file_extension": ".py",
   "mimetype": "text/x-python",
   "name": "python",
   "nbconvert_exporter": "python",
   "pygments_lexer": "ipython3",
   "version": "3.9.4"
  }
 },
 "nbformat": 4,
 "nbformat_minor": 1
}
